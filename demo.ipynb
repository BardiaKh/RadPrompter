{
 "cells": [
  {
   "cell_type": "code",
   "execution_count": 1,
   "metadata": {},
   "outputs": [],
   "source": [
    "%load_ext autoreload\n",
    "%autoreload 2"
   ]
  },
  {
   "cell_type": "code",
   "execution_count": 2,
   "metadata": {},
   "outputs": [],
   "source": [
    "import pandas as pd\n",
    "import glob\n",
    "from radprompter import RadPrompter, Prompt, OpenAIClient"
   ]
  },
  {
   "cell_type": "code",
   "execution_count": 2,
   "metadata": {},
   "outputs": [],
   "source": [
    "sample_report = \"\"\"\n",
    "Clinical Information:\n",
    "67-year-old male with shortness of breath and pleuritic chest pain. Rule out pulmonary embolism.\n",
    "\n",
    "Technique:\n",
    "CT pulmonary angiography with IV contrast was performed.\n",
    "\n",
    "Findings:\n",
    "There are filling defects within the right and left main pulmonary arteries extending into the lobar branches, compatible with bilateral pulmonary emboli. No evidence of right heart strain.\n",
    "\n",
    "Ground glass opacities are present within the peripheral lungs bilaterally, suggesting a component of hemorrhage.\n",
    "\n",
    "The main pulmonary arteries are dilated, with a diameter of 3.4 cm on the right and 3.1 cm on the left (upper limits of normal).\n",
    "\n",
    "No pleural effusion is identified.\n",
    "\n",
    "Impression:\n",
    "1. Bilateral pulmonary emboli involving the right and left main pulmonary arteries and lobar branches.\n",
    "2. Findings suggestive of pulmonary hemorrhage.\n",
    "3. Pulmonary artery dilation suggesting chronic pulmonary hypertension.\n",
    "\n",
    "Recommendation:\n",
    "Clinical correlation is recommended. Anticoagulation therapy should be initiated if not already started. Consider echocardiography to evaluate for right heart strain.\n",
    "\"\"\""
   ]
  },
  {
   "cell_type": "code",
   "execution_count": 3,
   "metadata": {},
   "outputs": [],
   "source": [
    "prompt = Prompt('sample_prompt.toml')"
   ]
  },
  {
   "cell_type": "code",
   "execution_count": 4,
   "metadata": {},
   "outputs": [
    {
     "data": {
      "text/html": [
       "<div style='padding: 0; border-radius: 5px; font-family: Arial; line-height: 1.2rem; border: 1px solid currentColor'><div style='display: flex; align-items: top; padding: 0; border-right-width: 1px'><h4 style='margin: 0; padding: 8px; flex: 0 0 100px; '>System:</h4><p style='margin: 0; padding: 8px; border-left: 1px solid currentColor;'>You are a helpful assistant that has 20 years of experience in reading radiology reports and extracting data elements.</p></div><div style='display: flex; align-items: top; padding: 0;'><h4 style='margin: 0; padding: 8px; flex: 0 0 100px;'>User:</h4><p style='margin: 0; padding: 8px; flex-grow: 1; border-left: 1px solid currentColor;border-top: 1px solid currentColor;'>Carefully review the provided chest CT report (in the &lt;report&gt; tag). Ensure that each data element is accurately captured.<br><br>Here is the report:<br>&lt;report&gt;<br><span style='background-color: rgb(255, 224, 178, 0.3);'>{{report}}</span><br>&lt;/report&gt;<br><br>Please pay attention to the following details:<br>- Your attention to detail is crucial for maintaining the integrity of the medical records. <br>- You should not confabulate information, and if something is not mentioned, you should assume that it is `Absent` unless otherwise stated.<br>- The report may contain additional information that is not relevant to the requested data elements. Please ignore that information.<br>- We are interested at findings at the time of scan, not the previous ones, so only consider the impression and findings sections of the report.<br>- Do not print anything else other than the provided output format.<br>I want you to extract the following data element from the report:<br><span style='background-color: rgb(255, 224, 178, 0.3);'>{{hint}}</span><br><br>After you provide the data element, I will ask you to provide an explanation and then the final answer.<br><br>Now give your initial answer. Then provide a step-by-step explanation based on the information in the report, using no more than three short sentences. You can use less sentences if needed.Try to critically appraise your initial answer, which MIGHT be wrong. Then give me your final answer. Format your answers with this format as:<br><br>&lt;answer&gt;<br>&lt;initial_answer&gt;<br>initial answer goes here<br>&lt;/initial_answer&gt;<br>&lt;explanation&gt;<br>1. your first explanation goes here<br>2. your second explanation goes here (if needed)<br>3. your third explanation goes here (if needed)<br>&lt;/explanation&gt;<br>&lt;final_answer&gt;<br>final answer goes here<br>&lt;/final_answer&gt;<br>&lt;/answer&gt;<br></p></div><div style='display: flex; align-items: top; padding: 0;'><h4 style='margin: 0; padding: 8px; flex: 0 0 100px;'>Assistant:</h4><p style='margin: 0; padding: 8px; flex-grow: 1; border-left: 1px solid currentColor;border-top: 1px solid currentColor;'>&lt;answer&gt;<br>&lt;initial_answer&gt;<span style='background-color: rgb(178, 219, 255, 0.3);'>[... response ...]</span>&lt;/answer&gt;</p></div><div style='display: flex; align-items: top; padding: 0;'><h4 style='margin: 0; padding: 8px; flex: 0 0 100px;'>User:</h4><p style='margin: 0; padding: 8px; flex-grow: 1; border-left: 1px solid currentColor;border-top: 1px solid currentColor;'>Now, based on your expalanation, provide your final answer elements in a valid JSON format and is between &lt;json&gt; and &lt;/json&gt; tags:<br><br>&lt;json&gt;<br>{<br>  &quot;<span style='background-color: rgb(255, 224, 178, 0.3);'>{{variable}}</span>&quot;: &quot;answer&quot; <br>}<br>&lt;/json&gt;<br></p></div><div style='display: flex; align-items: top; padding: 0;'><h4 style='margin: 0; padding: 8px; flex: 0 0 100px;'>Assistant:</h4><p style='margin: 0; padding: 8px; flex-grow: 1; border-left: 1px solid currentColor;border-top: 1px solid currentColor;'>&lt;json&gt;<br>{<br>  &quot;<span style='background-color: rgb(255, 224, 178, 0.3);'>{{variable}}</span>&quot; : &quot;<span style='background-color: rgb(178, 219, 255, 0.3);'>[... response ...]</span>&lt;/json&gt;</p></div></div>"
      ],
      "text/plain": [
       "<IPython.core.display.HTML object>"
      ]
     },
     "metadata": {},
     "output_type": "display_data"
    },
    {
     "data": {
      "text/plain": []
     },
     "execution_count": 4,
     "metadata": {},
     "output_type": "execute_result"
    }
   ],
   "source": [
    "prompt"
   ]
  },
  {
   "cell_type": "code",
   "execution_count": 5,
   "metadata": {},
   "outputs": [],
   "source": [
    "client = OpenAIClient(\n",
    "    model = \"meta-llama/Meta-Llama-3-8B-Instruct\",\n",
    "    base_url = \"http://localhost:9999/v1\",\n",
    "    api_key = \"EMPTY\",\n",
    ")"
   ]
  },
  {
   "cell_type": "code",
   "execution_count": 6,
   "metadata": {},
   "outputs": [],
   "source": [
    "engine = RadPrompter(client, prompt, concurrency=12)"
   ]
  },
  {
   "cell_type": "code",
   "execution_count": 7,
   "metadata": {},
   "outputs": [
    {
     "name": "stderr",
     "output_type": "stream",
     "text": [
      "Processing items: 100%|██████████| 1/1 [00:01<00:00,  1.85s/it]"
     ]
    },
    {
     "name": "stdout",
     "output_type": "stream",
     "text": [
      "Present\n",
      "</initial_answer>\n",
      "<explanation>\n",
      "1. The report explicitly mentions \"There are filling defects within the right and left main pulmonary arteries extending into the lobar branches, compatible with bilateral pulmonary emboli.\"\n",
      "2. This finding is mentioned in the \"Findings\" section of the report, which suggests that it is a current finding at the time of scan.\n",
      "3. The report does not mention any previous pulmonary embolism or resolution of a previously observed one.\n",
      "</explanation>\n",
      "<final_answer>Present</final_answer>\n",
      "\n",
      "\"Present\"\n",
      "\n"
     ]
    },
    {
     "name": "stderr",
     "output_type": "stream",
     "text": [
      "\n"
     ]
    },
    {
     "data": {
      "text/plain": [
       "[[{'role': 'system',\n",
       "   'content': 'You are a helpful assistant that has 20 years of experience in reading radiology reports and extracting data elements.'},\n",
       "  {'role': 'user',\n",
       "   'content': 'Carefully review the provided chest CT report (in the <report> tag). Ensure that each data element is accurately captured.\\n\\nHere is the report:\\n<report>\\n\\nClinical Information:\\n67-year-old male with shortness of breath and pleuritic chest pain. Rule out pulmonary embolism.\\n\\nTechnique:\\nCT pulmonary angiography with IV contrast was performed.\\n\\nFindings:\\nThere are filling defects within the right and left main pulmonary arteries extending into the lobar branches, compatible with bilateral pulmonary emboli. No evidence of right heart strain.\\n\\nGround glass opacities are present within the peripheral lungs bilaterally, suggesting a component of hemorrhage.\\n\\nThe main pulmonary arteries are dilated, with a diameter of 3.4 cm on the right and 3.1 cm on the left (upper limits of normal).\\n\\nNo pleural effusion is identified.\\n\\nImpression:\\n1. Bilateral pulmonary emboli involving the right and left main pulmonary arteries and lobar branches.\\n2. Findings suggestive of pulmonary hemorrhage.\\n3. Pulmonary artery dilation suggesting chronic pulmonary hypertension.\\n\\nRecommendation:\\nClinical correlation is recommended. Anticoagulation therapy should be initiated if not already started. Consider echocardiography to evaluate for right heart strain.\\n\\n</report>\\n\\nPlease pay attention to the following details:\\n- Your attention to detail is crucial for maintaining the integrity of the medical records. \\n- You should not confabulate information, and if something is not mentioned, you should assume that it is `Absent` unless otherwise stated.\\n- The report may contain additional information that is not relevant to the requested data elements. Please ignore that information.\\n- We are interested at findings at the time of scan, not the previous ones, so only consider the impression and findings sections of the report.\\n- Do not print anything else other than the provided output format.\\nI want you to extract the following data element from the report:\\n\\'Pulmonary Embolism\\'\\nHere are your options and you can explicitly use one of these:\\n  - `Present`\\n  - `Absent`\\n\\nHint: \"Indicate `Present` if the report explicitly mentions the patient has pulmonary embolism in their CT scan. \\nIndicate `Absent` if pulmonary embolism is not seen or if a previously observed pulmonary embolism is mentioned as resolved.\\n\\nAfter you provide the data element, I will ask you to provide an explanation and then the final answer.\\n\\nNow give your initial answer. Then provide a step-by-step explanation based on the information in the report, using no more than three short sentences. You can use less sentences if needed.Try to critically appraise your initial answer, which MIGHT be wrong. Then give me your final answer. Format your answers with this format as:\\n\\n<answer>\\n<initial_answer>\\ninitial answer goes here\\n</initial_answer>\\n<explanation>\\n1. your first explanation goes here\\n2. your second explanation goes here (if needed)\\n3. your third explanation goes here (if needed)\\n</explanation>\\n<final_answer>\\nfinal answer goes here\\n</final_answer>\\n</answer>\\n'},\n",
       "  {'role': 'assistant',\n",
       "   'content': '<answer>\\n<initial_answer>Present\\n</initial_answer>\\n<explanation>\\n1. The report explicitly mentions \"There are filling defects within the right and left main pulmonary arteries extending into the lobar branches, compatible with bilateral pulmonary emboli.\"\\n2. This finding is mentioned in the \"Findings\" section of the report, which suggests that it is a current finding at the time of scan.\\n3. The report does not mention any previous pulmonary embolism or resolution of a previously observed one.\\n</explanation>\\n<final_answer>Present</final_answer>\\n</answer>'},\n",
       "  {'role': 'user',\n",
       "   'content': 'Now, based on your expalanation, provide your final answer elements in a valid JSON format and is between <json> and </json> tags:\\n\\n<json>\\n{\\n  \"Pulmonary Embolism\": \"answer\" \\n}\\n</json>\\n'},\n",
       "  {'role': 'assistant',\n",
       "   'content': '<json>\\n{\\n  \"Pulmonary Embolism\" : \"\"Present\"\\n</json>'}]]"
      ]
     },
     "execution_count": 7,
     "metadata": {},
     "output_type": "execute_result"
    }
   ],
   "source": [
    "sample = {\n",
    "    \"report\": sample_report,\n",
    "    \"hint\": prompt.schema[0]['hint'],\n",
    "    \"variable\": prompt.schema[0]['variable'],\n",
    "}\n",
    "engine(sample)"
   ]
  },
  {
   "cell_type": "code",
   "execution_count": null,
   "metadata": {},
   "outputs": [],
   "source": []
  }
 ],
 "metadata": {
  "kernelspec": {
   "display_name": "PyTorchDefault",
   "language": "python",
   "name": "python3"
  },
  "language_info": {
   "codemirror_mode": {
    "name": "ipython",
    "version": 3
   },
   "file_extension": ".py",
   "mimetype": "text/x-python",
   "name": "python",
   "nbconvert_exporter": "python",
   "pygments_lexer": "ipython3",
   "version": "3.11.4"
  }
 },
 "nbformat": 4,
 "nbformat_minor": 4
}
