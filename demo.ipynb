{
 "cells": [
  {
   "cell_type": "code",
   "execution_count": 1,
   "metadata": {},
   "outputs": [],
   "source": [
    "%load_ext autoreload\n",
    "%autoreload 2"
   ]
  },
  {
   "cell_type": "code",
   "execution_count": 2,
   "metadata": {},
   "outputs": [],
   "source": [
    "import pandas as pd\n",
    "import glob\n",
    "from radprompter import RadPrompter, Prompt, vLLMClient"
   ]
  },
  {
   "cell_type": "code",
   "execution_count": 3,
   "metadata": {},
   "outputs": [],
   "source": [
    "sample_report = \"\"\"\n",
    "Clinical Information:\n",
    "67-year-old male with shortness of breath and pleuritic chest pain. Rule out pulmonary embolism.\n",
    "\n",
    "Technique:\n",
    "CT pulmonary angiography with IV contrast was performed.\n",
    "\n",
    "Findings:\n",
    "There are filling defects within the right and left main pulmonary arteries extending into the lobar branches, compatible with bilateral pulmonary emboli. No evidence of right heart strain.\n",
    "\n",
    "Ground glass opacities are present within the peripheral lungs bilaterally, suggesting a component of hemorrhage.\n",
    "\n",
    "The main pulmonary arteries are dilated, with a diameter of 3.4 cm on the right and 3.1 cm on the left (upper limits of normal).\n",
    "\n",
    "No pleural effusion is identified.\n",
    "\n",
    "Impression:\n",
    "1. Bilateral pulmonary emboli involving the right and left main pulmonary arteries and lobar branches.\n",
    "2. Findings suggestive of pulmonary hemorrhage.\n",
    "3. Pulmonary artery dilation suggesting chronic pulmonary hypertension.\n",
    "\n",
    "Recommendation:\n",
    "Clinical correlation is recommended. Anticoagulation therapy should be initiated if not already started. Consider echocardiography to evaluate for right heart strain.\n",
    "\"\"\""
   ]
  },
  {
   "cell_type": "code",
   "execution_count": 4,
   "metadata": {},
   "outputs": [],
   "source": [
    "prompt = Prompt('sample_prompt.toml')"
   ]
  },
  {
   "cell_type": "code",
   "execution_count": 5,
   "metadata": {},
   "outputs": [
    {
     "data": {
      "text/html": [
       "<div style='padding: 0; border-radius: 5px; font-family: Arial; line-height: 1.2rem; border: 1px solid currentColor'><div style='display: flex; align-items: top; padding: 0; border-right-width: 1px'><h4 style='margin: 0; padding: 8px; flex: 0 0 100px; '>System:</h4><p style='margin: 0; padding: 8px; border-left: 1px solid currentColor;'></p></div><div style='display: flex; align-items: top; padding: 0;'><h4 style='margin: 0; padding: 8px; flex: 0 0 100px;'>User:</h4><p style='margin: 0; padding: 8px; flex-grow: 1; border-left: 1px solid currentColor;border-top: 1px solid currentColor;'>Carefully review the provided chest CT report (in the &lt;report&gt; tag). Ensure that each data element is accurately captured.<br><br>Here is the report:<br>&lt;report&gt;<br><span style='background-color: rgb(255, 224, 178, 0.3);'>{{report}}</span><br>&lt;/report&gt;<br><br>Please pay attention to the following details:<br>- Your attention to detail is crucial for maintaining the integrity of the medical records. <br>- You should not confabulate information, and if something is not mentioned, you should assume that it is `Absent` unless otherwise stated.<br>- The report may contain additional information that is not relevant to the requested data elements. Please ignore that information.<br>- We are interested at findings at the time of scan, not the previous ones, so only consider the impression and findings sections of the report.<br>- Do not print anything else other than the provided output format.<br>I want you to extract the following data element from the report:<br><span style='background-color: rgb(255, 224, 178, 0.3);'>{{hint}}</span><br><br>After you provide the data element, I will ask you to provide an explanation and then the final answer.<br><br>Now give your initial answer. Then provide a step-by-step explanation based on the information in the report, using no more than three short sentences. You can use less sentences if needed.Try to critically appraise your initial answer, which MIGHT be wrong. Then give me your final answer. Format your answers with this format as:<br><br>&lt;answer&gt;<br>&lt;initial_answer&gt;<br>initial answer goes here<br>&lt;/initial_answer&gt;<br>&lt;explanation&gt;<br>1. your first explanation goes here<br>2. your second explanation goes here (if needed)<br>3. your third explanation goes here (if needed)<br>&lt;/explanation&gt;<br>&lt;final_answer&gt;<br>final answer goes here<br>&lt;/final_answer&gt;<br>&lt;/answer&gt;<br></p></div><div style='display: flex; align-items: top; padding: 0;'><h4 style='margin: 0; padding: 8px; flex: 0 0 100px;'>Assistant:</h4><p style='margin: 0; padding: 8px; flex-grow: 1; border-left: 1px solid currentColor;border-top: 1px solid currentColor;'>&lt;answer&gt;<br>&lt;initial_answer&gt;<span style='background-color: rgb(178, 219, 255, 0.3);'>[... response ...]</span>&lt;/answer&gt;</p></div><div style='display: flex; align-items: top; padding: 0;'><h4 style='margin: 0; padding: 8px; flex: 0 0 100px;'>User:</h4><p style='margin: 0; padding: 8px; flex-grow: 1; border-left: 1px solid currentColor;border-top: 1px solid currentColor;'>Now, based on your expalanation, provide your final answer elements in a valid JSON format and is between &lt;json&gt; and &lt;/json&gt; tags:<br><br>&lt;json&gt;<br>{<br>  &quot;<span style='background-color: rgb(255, 224, 178, 0.3);'>{{variable_name}}</span>&quot;: &quot;answer&quot; <br>}<br>&lt;/json&gt;<br></p></div><div style='display: flex; align-items: top; padding: 0;'><h4 style='margin: 0; padding: 8px; flex: 0 0 100px;'>Assistant:</h4><p style='margin: 0; padding: 8px; flex-grow: 1; border-left: 1px solid currentColor;border-top: 1px solid currentColor;'>&lt;json&gt;<br>{<br>  &quot;<span style='background-color: rgb(255, 224, 178, 0.3);'>{{variable_name}}</span>&quot; : &quot;<span style='background-color: rgb(178, 219, 255, 0.3);'>[... response ...]</span>&lt;/json&gt;</p></div></div>"
      ],
      "text/plain": [
       "<IPython.core.display.HTML object>"
      ]
     },
     "metadata": {},
     "output_type": "display_data"
    },
    {
     "data": {
      "text/plain": []
     },
     "execution_count": 5,
     "metadata": {},
     "output_type": "execute_result"
    }
   ],
   "source": [
    "prompt"
   ]
  },
  {
   "cell_type": "code",
   "execution_count": 7,
   "metadata": {},
   "outputs": [],
   "source": [
    "client = vLLMClient(\n",
    "    model = \"meta-llama/Meta-Llama-3-70B-Instruct\",\n",
    "    base_url = \"http://localhost:8000/v1\",\n",
    "    temperature = 0.0,\n",
    "    seed=42\n",
    ")"
   ]
  },
  {
   "cell_type": "code",
   "execution_count": 52,
   "metadata": {},
   "outputs": [
    {
     "data": {
      "text/plain": [
       "[{'variable_name': 'Pulmonary Embolism',\n",
       "  'type': 'select',\n",
       "  'options': ['Present', 'Absent'],\n",
       "  'hint': '\\'Pulmonary Embolism\\'\\nHere are your options and you can explicitly use one of these:\\n  - `Present`\\n  - `Absent`\\n\\nHint: \"Indicate `Present` if the report explicitly mentions the patient has pulmonary embolism in their CT scan. \\nIndicate `Absent` if pulmonary embolism is not seen or if a previously observed pulmonary embolism is mentioned as resolved.'},\n",
       " {'variable_name': 'Laterality',\n",
       "  'type': 'select',\n",
       "  'options': ['Left', 'Right', 'Bilateral', 'Not Mentioned'],\n",
       "  'hint': \"'Laterality'\\nHere are your options and you can explicitly use one of these:\\n  - `Left`\\n  - `Right`\\n  - `Bilateral`\\n  - `Not Mentioned`\\n\\nHint: Indicate `Left` if the report explicitly mentions the patient has a left-sided pulmonary embolism in their CT scan. \\nIndicate `Right` if the report explicitly mentions the patient has a right-sided pulmonary embolism in their CT scan. \\nIndicate `Bilateral` if the report explicitly mentions the patient has a bilateral pulmonary embolism in their CT scan or if patient has both left and right sided pulmonary embolism.\\nIndicate `Not Mentioned` if side of pulmonary embolism is not mentioned.\\n\"},\n",
       " {'variable_name': 'Acuity',\n",
       "  'type': 'select',\n",
       "  'options': ['Acute', 'Chronic', 'Mixed', 'Not Mentioned'],\n",
       "  'hint': \"'Acuity'\\nHere are your options and you can explicitly use one of these:\\n  - `Acute`\\n  - `Chronic`\\n  - `Mixed`\\n  - `Not Mentioned`\\n\\nHint: Indicate `Acute` if the report explicitly mentions the patient has an acute pulmonary embolism in their CT scan. \\nIndicate `Chronic` if the report explicitly mentions the patient has a chronic pulmonary embolism in their CT scan. \\nIndicate `Mixed` if the report explicitly mentions the patient has a acute on chronic pulmonary embolism in their CT scan. \\nIndicate `Not Mentioned` if acuity of pulmonary embolism is not mentioned.\\n\"}]"
      ]
     },
     "execution_count": 52,
     "metadata": {},
     "output_type": "execute_result"
    }
   ],
   "source": [
    "prompt.schemas"
   ]
  },
  {
   "cell_type": "code",
   "execution_count": 53,
   "metadata": {},
   "outputs": [],
   "source": [
    "engine = RadPrompter(\n",
    "    client=client, \n",
    "    prompt=prompt,\n",
    "    concurrency=12,\n",
    "    hide_blocks=False,\n",
    ")"
   ]
  },
  {
   "cell_type": "code",
   "execution_count": 54,
   "metadata": {},
   "outputs": [
    {
     "name": "stderr",
     "output_type": "stream",
     "text": [
      "Processing items:   0%|          | 0/1 [00:00<?, ?it/s]"
     ]
    },
    {
     "name": "stderr",
     "output_type": "stream",
     "text": [
      "Processing items: 100%|██████████| 1/1 [00:20<00:00, 20.62s/it]\n"
     ]
    },
    {
     "data": {
      "text/plain": [
       "[[{'Pulmonary Embolism': ['<initial_answer>\\nPresent\\n</initial_answer>\\n<explanation>\\n1. The report explicitly states \"filling defects within the right and left main pulmonary arteries extending into the lobar branches, compatible with bilateral pulmonary emboli\" in the Findings section.\\n2. This indicates that pulmonary embolism is present in the patient\\'s CT scan.\\n</explanation>\\n<final_answer>\\nPresent\\n</final_answer>\\n',\n",
       "    '<json>\\n{\\n  \"Pulmonary Embolism\" : \"Present\"\\n}\\n']},\n",
       "  {'Laterality': ['<answer>\\n<initial_answer>\\nBilateral\\n</initial_answer>\\n<explanation>\\n1. The report states \"filling defects within the right and left main pulmonary arteries extending into the lobar branches, compatible with bilateral pulmonary emboli\" in the Findings section.\\n2. This indicates that the patient has pulmonary emboli in both right and left sides.\\n</explanation>\\n<final_answer>\\nBilateral\\n</final_answer>\\n',\n",
       "    '<json>\\n{\\n  \"Laterality\" : \"Bilateral\"\\n}\\n']},\n",
       "  {'Acuity': ['<answer>\\n<initial_answer>\\nNot Mentioned\\n</initial_answer>\\n<explanation>\\n1. The report does not explicitly mention the acuity of the pulmonary embolism.\\n2. It only states that there are filling defects compatible with bilateral pulmonary emboli, without specifying whether they are acute or chronic.\\n</explanation>\\n<final_answer>\\nNot Mentioned\\n</final_answer>\\n',\n",
       "    '<json>\\n{\\n  \"Acuity\" : \"Not Mentioned\"\\n}\\n']}]]"
      ]
     },
     "execution_count": 54,
     "metadata": {},
     "output_type": "execute_result"
    }
   ],
   "source": [
    "sample = {\n",
    "    \"report\": sample_report,\n",
    "}\n",
    "engine(sample)"
   ]
  },
  {
   "cell_type": "code",
   "execution_count": 56,
   "metadata": {},
   "outputs": [],
   "source": [
    "engine.save_log()"
   ]
  },
  {
   "cell_type": "code",
   "execution_count": null,
   "metadata": {},
   "outputs": [],
   "source": []
  }
 ],
 "metadata": {
  "kernelspec": {
   "display_name": "PyTorchDefault",
   "language": "python",
   "name": "python3"
  },
  "language_info": {
   "codemirror_mode": {
    "name": "ipython",
    "version": 3
   },
   "file_extension": ".py",
   "mimetype": "text/x-python",
   "name": "python",
   "nbconvert_exporter": "python",
   "pygments_lexer": "ipython3",
   "version": "3.11.4"
  }
 },
 "nbformat": 4,
 "nbformat_minor": 4
}
