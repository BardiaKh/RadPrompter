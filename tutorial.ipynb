{
 "cells": [
  {
   "cell_type": "code",
   "execution_count": 5,
   "metadata": {},
   "outputs": [],
   "source": [
    "from radprompter import RadPrompter, Prompt, OpenAIClient"
   ]
  },
  {
   "cell_type": "code",
   "execution_count": 6,
   "metadata": {},
   "outputs": [],
   "source": [
    "SCHEMA = [\n",
    "    {\n",
    "        \"name\": \"Pneumothorax\",\n",
    "        \"type\": \"select\",\n",
    "        \"options\": [\"Present\", \"Absent\"],\n",
    "        \"hint\": \"Indicate `Present` if the report explicitly mentions the patient has pneumothorax in their chest x-ray. Indicate `Absent` if pneumothorax is not seen or if a previously observed pneumothorax is mentioned as resolved.\",\n",
    "        \"show_options_in_hint\": True,\n",
    "        \"logprobs\": True,\n",
    "        \"CoT\": True,\n",
    "    },\n",
    "    {\n",
    "        \"name\": \"Fracture\",\n",
    "        \"type\": \"select\",\n",
    "        \"options\": [\"Present\", \"Absent\"],\n",
    "        \"hint\": \"Indicate `Present` if the report explicitly mentions the patient has rib fracture in their chest x-ray. Indicate `Absent` if rib fracture is not seen.\",\n",
    "        \"show_options_in_hint\": True,\n",
    "        \"logprobs\": True,\n",
    "        \"CoT\": True,\n",
    "    },\n",
    "]"
   ]
  },
  {
   "cell_type": "code",
   "execution_count": 7,
   "metadata": {},
   "outputs": [],
   "source": [
    "def process_schema(schema):\n",
    "    processed_schema = []\n",
    "    for item in schema:\n",
    "        hint = f\"'{item['name']}'\\n\"\n",
    "        if item['show_options_in_hint']:\n",
    "            hint += \"Here are your options and you can explicitly use one of these:\\n  - \" + \"\\n  - \".join(f\"`{i}`\" for i in item['options']) + \"\\n\\n\"\n",
    "\n",
    "        hint += \"Hint: \" + item['hint']\n",
    "\n",
    "        processed_schema.append({\n",
    "            \"variable\": item['name'],\n",
    "            \"CoT\": item['CoT'],\n",
    "            \"hint\": hint,\n",
    "            \"type\": item['type'],\n",
    "            \"options\": item['options'] if item['type'] == \"select\" else None,\n",
    "        })\n",
    "\n",
    "    return processed_schema"
   ]
  },
  {
   "cell_type": "code",
   "execution_count": 8,
   "metadata": {},
   "outputs": [
    {
     "data": {
      "text/plain": [
       "[{'variable': 'Pneumothorax',\n",
       "  'CoT': True,\n",
       "  'hint': \"'Pneumothorax'\\nHere are your options and you can explicitly use one of these:\\n  - `Present`\\n  - `Absent`\\n\\nHint: Indicate `Present` if the report explicitly mentions the patient has pneumothorax in their chest x-ray. Indicate `Absent` if pneumothorax is not seen or if a previously observed pneumothorax is mentioned as resolved.\",\n",
       "  'type': 'select',\n",
       "  'options': ['Present', 'Absent']},\n",
       " {'variable': 'Fracture',\n",
       "  'CoT': True,\n",
       "  'hint': \"'Fracture'\\nHere are your options and you can explicitly use one of these:\\n  - `Present`\\n  - `Absent`\\n\\nHint: Indicate `Present` if the report explicitly mentions the patient has rib fracture in their chest x-ray. Indicate `Absent` if rib fracture is not seen.\",\n",
       "  'type': 'select',\n",
       "  'options': ['Present', 'Absent']}]"
      ]
     },
     "execution_count": 8,
     "metadata": {},
     "output_type": "execute_result"
    }
   ],
   "source": [
    "process_schema(SCHEMA)"
   ]
  },
  {
   "cell_type": "code",
   "execution_count": 9,
   "metadata": {},
   "outputs": [],
   "source": [
    "SYS_PROMPT = \"You are a helpful assistant that has 20 years of experience in reading radiology reports and extracting data elements.\"\n",
    "USER_PROMPT = \\\n",
    "\"\"\"Carefully review the provided chest x-ray report (in the <report> tag). Ensure that each data element is accurately captured.\n",
    "\n",
    "Here is the report:\n",
    "<report>\n",
    "{{report}}\n",
    "</report>\n",
    "\n",
    "Please pay attention to the following details:\n",
    "- Your attention to detail is crucial for maintaining the integrity of the medical records. \n",
    "- You should not confabulate information, and if something is not mentioned, you should assume that it is `Absent` unless otherwise stated.\n",
    "- The report may contain additional information that is not relevant to the requested data elements. Please ignore that information.\n",
    "- We are interested at findings at the time of scan, not the previous ones, so only consider the impression and findings sections of the report.\n",
    "- Do not print anything else other than the provided output format.\n",
    "\"\"\"\n",
    "\n",
    "CoT_TEMPLATE = \\\n",
    "\"\"\"I want you to extract the following data element from the report:\n",
    "{{hint}}\n",
    "\n",
    "After you provide the data element, I will ask you to provide an explanation and then the final answer.\n",
    "\n",
    "Now give your initial answer. Then provide a step-by-step expalanation based on the information in the report, using no more than three short sentences. You can use less sentences if needed.\\\n",
    "Try to critically appraise your initial answer, which MIGHT be wrong. Then give me your final answer. Format your answers with this format as:\n",
    "\n",
    "<answer>\n",
    "<initial_answer>\n",
    "initial answer goes here\n",
    "</initial_answer>\n",
    "<explanation>\n",
    "1. your first explanation goes here\n",
    "2. your second explanation goes here (if needed)\n",
    "3. your third explanation goes here (if needed)\n",
    "</explanation>\n",
    "<final_answer>\n",
    "final answer goes here\n",
    "</final_answer>\n",
    "</answer>\n",
    "\"\"\"\n",
    "\n",
    "RESPONSE_noCoT_TEMPLATE = \\\n",
    "\"\"\"I want you to extract the following data element from the report: \n",
    "{{hint}}\n",
    "\n",
    "Your final answer elements in a valid JSON format and is between <json> and </json> tags:\n",
    "\n",
    "<json>\n",
    "{\n",
    "  \"{{variable}}\": \"answer\" \n",
    "}\n",
    "</json>\n",
    "\"\"\"\n",
    "\n",
    "RESPONSE_CoT_TEMPLATE = \\\n",
    "\"\"\"Now, based on your expalanation, provide your final answer elements in a valid JSON format and is between <json> and </json> tags:\n",
    "\n",
    "<json>\n",
    "{\n",
    "  \"{{variable}}\": \"answer\" \n",
    "}\n",
    "</json>\n",
    "\"\"\"\n",
    "\n",
    "ASSISTANT_JSON_PREFILL = \\\n",
    "\"\"\"\n",
    "<json>\n",
    "{\n",
    "  \"{{variable}}\" : \\\"\"\"\""
   ]
  },
  {
   "cell_type": "code",
   "execution_count": 10,
   "metadata": {},
   "outputs": [],
   "source": [
    "pneumonia_prompt = Prompt(\n",
    "    system_prompt=SYS_PROMPT,\n",
    "    user_prompts=[\n",
    "        USER_PROMPT + CoT_TEMPLATE,\n",
    "        RESPONSE_CoT_TEMPLATE,\n",
    "    ],\n",
    "    response_templates=[\n",
    "        \"<answer>\\n<initial_answer>\",\n",
    "        ASSISTANT_JSON_PREFILL,\n",
    "    ],\n",
    "    stop_tags=[\n",
    "        \"</answer>\",\n",
    "        \"</json>\",\n",
    "    ]\n",
    ")"
   ]
  },
  {
   "cell_type": "code",
   "execution_count": 11,
   "metadata": {},
   "outputs": [
    {
     "data": {
      "text/html": [
       "<div style='padding: 0; border-radius: 5px; font-family: Arial; line-height: 1.2rem; border: 1px solid currentColor'><div style='display: flex; align-items: top; padding: 0; border-right-width: 1px'><h4 style='margin: 0; padding: 8px; flex: 0 0 100px; '>System:</h4><p style='margin: 0; padding: 8px; border-left: 1px solid currentColor;'>You are a helpful assistant that has 20 years of experience in reading radiology reports and extracting data elements.</p></div><div style='display: flex; align-items: top; padding: 0;'><h4 style='margin: 0; padding: 8px; flex: 0 0 100px;'>User:</h4><p style='margin: 0; padding: 8px; flex-grow: 1; border-left: 1px solid currentColor;border-top: 1px solid currentColor;'>Carefully review the provided chest x-ray report (in the &lt;report&gt; tag). Ensure that each data element is accurately captured.<br><br>Here is the report:<br>&lt;report&gt;<br><span style='background-color: rgb(255, 224, 178, 0.3);'>{{report}}</span><br>&lt;/report&gt;<br><br>Please pay attention to the following details:<br>- Your attention to detail is crucial for maintaining the integrity of the medical records. <br>- You should not confabulate information, and if something is not mentioned, you should assume that it is `Absent` unless otherwise stated.<br>- The report may contain additional information that is not relevant to the requested data elements. Please ignore that information.<br>- We are interested at findings at the time of scan, not the previous ones, so only consider the impression and findings sections of the report.<br>- Do not print anything else other than the provided output format.<br>I want you to extract the following data element from the report:<br><span style='background-color: rgb(255, 224, 178, 0.3);'>{{hint}}</span><br><br>After you provide the data element, I will ask you to provide an explanation and then the final answer.<br><br>Now give your initial answer. Then provide a step-by-step expalanation based on the information in the report, using no more than three short sentences. You can use less sentences if needed.Try to critically appraise your initial answer, which MIGHT be wrong. Then give me your final answer. Format your answers with this format as:<br><br>&lt;answer&gt;<br>&lt;initial_answer&gt;<br>initial answer goes here<br>&lt;/initial_answer&gt;<br>&lt;explanation&gt;<br>1. your first explanation goes here<br>2. your second explanation goes here (if needed)<br>3. your third explanation goes here (if needed)<br>&lt;/explanation&gt;<br>&lt;final_answer&gt;<br>final answer goes here<br>&lt;/final_answer&gt;<br>&lt;/answer&gt;<br></p></div><div style='display: flex; align-items: top; padding: 0;'><h4 style='margin: 0; padding: 8px; flex: 0 0 100px;'>Assistant:</h4><p style='margin: 0; padding: 8px; flex-grow: 1; border-left: 1px solid currentColor;border-top: 1px solid currentColor;'>&lt;answer&gt;<br>&lt;initial_answer&gt;<span style='background-color: rgb(178, 219, 255, 0.3);'>[... response ...]</span>&lt;/answer&gt;</p></div><div style='display: flex; align-items: top; padding: 0;'><h4 style='margin: 0; padding: 8px; flex: 0 0 100px;'>User:</h4><p style='margin: 0; padding: 8px; flex-grow: 1; border-left: 1px solid currentColor;border-top: 1px solid currentColor;'>Now, based on your expalanation, provide your final answer elements in a valid JSON format and is between &lt;json&gt; and &lt;/json&gt; tags:<br><br>&lt;json&gt;<br>{<br>  &quot;<span style='background-color: rgb(255, 224, 178, 0.3);'>{{variable}}</span>&quot;: &quot;answer&quot; <br>}<br>&lt;/json&gt;<br></p></div><div style='display: flex; align-items: top; padding: 0;'><h4 style='margin: 0; padding: 8px; flex: 0 0 100px;'>Assistant:</h4><p style='margin: 0; padding: 8px; flex-grow: 1; border-left: 1px solid currentColor;border-top: 1px solid currentColor;'><br>&lt;json&gt;<br>{<br>  &quot;<span style='background-color: rgb(255, 224, 178, 0.3);'>{{variable}}</span>&quot; : &quot;<span style='background-color: rgb(178, 219, 255, 0.3);'>[... response ...]</span>&lt;/json&gt;</p></div></div>"
      ],
      "text/plain": [
       "<IPython.core.display.HTML object>"
      ]
     },
     "metadata": {},
     "output_type": "display_data"
    },
    {
     "data": {
      "text/plain": []
     },
     "execution_count": 11,
     "metadata": {},
     "output_type": "execute_result"
    }
   ],
   "source": [
    "pneumonia_prompt"
   ]
  },
  {
   "cell_type": "code",
   "execution_count": 12,
   "metadata": {},
   "outputs": [
    {
     "data": {
      "text/plain": [
       "'2024-05-03 19:07:09'"
      ]
     },
     "execution_count": 12,
     "metadata": {},
     "output_type": "execute_result"
    }
   ],
   "source": [
    "pneumonia_prompt.version"
   ]
  },
  {
   "cell_type": "code",
   "execution_count": 13,
   "metadata": {},
   "outputs": [],
   "source": [
    "pneumonia_prompt.save(\"pneumonia.rdp\")"
   ]
  },
  {
   "cell_type": "code",
   "execution_count": 12,
   "metadata": {},
   "outputs": [
    {
     "data": {
      "text/plain": [
       "'2024-05-03 18:48:24'"
      ]
     },
     "execution_count": 12,
     "metadata": {},
     "output_type": "execute_result"
    }
   ],
   "source": [
    "Prompt().load(\"pneumonia.rdp\").version"
   ]
  },
  {
   "cell_type": "code",
   "execution_count": 15,
   "metadata": {},
   "outputs": [],
   "source": [
    "client = OpenAIClient(\n",
    "    model = \"meta-llama/Meta-Llama-3-8B-Instruct\",\n",
    "    base_url = \"http://localhost:10001/v1\",\n",
    "    api_key = \"EMPTY\",\n",
    ")"
   ]
  },
  {
   "cell_type": "code",
   "execution_count": 16,
   "metadata": {},
   "outputs": [],
   "source": [
    "engine = RadPrompter(client, pneumonia_prompt)"
   ]
  },
  {
   "cell_type": "code",
   "execution_count": 17,
   "metadata": {},
   "outputs": [
    {
     "data": {
      "text/plain": [
       "<RadPrompter.radprompter.radprompter.RadPrompter at 0x7f7f5f173d10>"
      ]
     },
     "execution_count": 17,
     "metadata": {},
     "output_type": "execute_result"
    }
   ],
   "source": [
    "engine"
   ]
  },
  {
   "cell_type": "code",
   "execution_count": 15,
   "metadata": {},
   "outputs": [
    {
     "name": "stderr",
     "output_type": "stream",
     "text": [
      "Processing items:   0%|          | 0/1 [00:00<?, ?it/s]"
     ]
    },
    {
     "name": "stderr",
     "output_type": "stream",
     "text": [
      "Processing items: 100%|██████████| 1/1 [00:03<00:00,  3.60s/it]"
     ]
    },
    {
     "name": "stdout",
     "output_type": "stream",
     "text": [
      "<initial_answer>None</initial_answer>\n",
      "<explanation>\n",
      "1. Since the report is blank, there is no information provided to extract any data elements.\n",
      "2. The report does not contain any relevant information about the patient's condition or findings.\n",
      "3. Therefore, it is reasonable to assume that all data elements are Absent.\n",
      "</explanation>\n",
      "<final_answer>Absent</final_answer>\n",
      "\n",
      "Absent\n",
      "\n"
     ]
    },
    {
     "name": "stderr",
     "output_type": "stream",
     "text": [
      "\n"
     ]
    },
    {
     "data": {
      "text/plain": [
       "[[{'role': 'system',\n",
       "   'content': 'You are a helpful assistant that has 20 years of experience in reading radiology reports and extracting data elements.'},\n",
       "  {'role': 'user',\n",
       "   'content': 'Carefully review the provided chest x-ray report (in the <report> tag). Ensure that each data element is accurately captured.\\n\\nHere is the report:\\n<report>\\nThis is a sample report.\\n</report>\\n\\nPlease pay attention to the following details:\\n- Your attention to detail is crucial for maintaining the integrity of the medical records. \\n- You should not confabulate information, and if something is not mentioned, you should assume that it is `Absent` unless otherwise stated.\\n- UNDER NO CIRCUIMSTANCES you should use any of your pre-existing medical knowledge, and you MUST only rely on infromation from the report.\\n- The report may contain additional information that is not relevant to the requested data elements. Please ignore that information.\\n- We are interested at findings at the time of scan, not the previous ones, so only consider the impression and findings sections of the report.\\n- Do not print anything else other than the provided output format.\\n\\nI want you to extract the following data element from the report:\\nThis is a hint.\\n\\nAfter you provide the data element, I will ask you to provide an explanation and then the final answer.\\n\\nNow give your initial answer. Then provide a step-by-step expalanation based on the information in the report, using no more than three short sentences. You can use less sentences if needed.Try to critically appraise your initial answer, which MIGHT be wrong. Then give me your final answer. Format your answers with this format as:\\n\\n<answer>\\n<initial_answer>\\ninitial answer goes here\\n</initial_answer>\\n<explanation>\\n1. your first explanation goes here\\n2. your second explanation goes here (if needed)\\n3. your third explanation goes here (if needed)\\n</explanation>\\n<final_answer>\\nfinal answer goes here\\n</final_answer>\\n</answer>\\n'},\n",
       "  {'role': 'assistant',\n",
       "   'content': \"<answer>\\n<initial_answer><initial_answer>None</initial_answer>\\n<explanation>\\n1. Since the report is blank, there is no information provided to extract any data elements.\\n2. The report does not contain any relevant information about the patient's condition or findings.\\n3. Therefore, it is reasonable to assume that all data elements are Absent.\\n</explanation>\\n<final_answer>Absent</final_answer>\\n</answer>\"},\n",
       "  {'role': 'user',\n",
       "   'content': 'Now, based on your expalanation, provide your final answer elements in a valid JSON format and is between <json> and </json> tags:\\n\\n<json>\\n{\\n  \"Pneumonia\": \"answer\" \\n}\\n</json>\\n'},\n",
       "  {'role': 'assistant',\n",
       "   'content': '\\n<json>\\n{\\n  \"Pneumonia\" : \"Absent\\n</json>'}]]"
      ]
     },
     "execution_count": 15,
     "metadata": {},
     "output_type": "execute_result"
    }
   ],
   "source": [
    "sample = {\n",
    "    \"report\": \"This is a sample report.\",\n",
    "    \"hint\": \"This is a hint.\",\n",
    "    \"variable\": \"Pneumonia\",\n",
    "}\n",
    "engine(sample)"
   ]
  }
 ],
 "metadata": {
  "kernelspec": {
   "display_name": "PyTorchDefault",
   "language": "python",
   "name": "python3"
  },
  "language_info": {
   "codemirror_mode": {
    "name": "ipython",
    "version": 3
   },
   "file_extension": ".py",
   "mimetype": "text/x-python",
   "name": "python",
   "nbconvert_exporter": "python",
   "pygments_lexer": "ipython3",
   "version": "3.11.4"
  }
 },
 "nbformat": 4,
 "nbformat_minor": 2
}
