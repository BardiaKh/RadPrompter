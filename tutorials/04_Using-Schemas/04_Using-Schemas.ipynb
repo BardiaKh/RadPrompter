{
 "cells": [
  {
   "cell_type": "markdown",
   "metadata": {},
   "source": [
    "# Tutorial 4: Using Schemas in RadPrompter\n",
    "\n",
    "In this tutorial, we'll explore how to use **Schemas** in RadPrompter to extract more structured data from radiology reports. Schemas allow us to define the specific data elements we want to extract and provide hints and constraints to guide the model's output."
   ]
  },
  {
   "cell_type": "markdown",
   "metadata": {},
   "source": [
    "## Installation\n",
    "\n",
    "If you don't have `RadPrompter` installed, you can install it using pip:\n",
    "\n",
    "```bash\n",
    "pip install radprompter\n",
    "```"
   ]
  },
  {
   "cell_type": "markdown",
   "metadata": {},
   "source": [
    "## Prompt\n",
    "\n",
    "As always, we start by importing the `Prompt` class and creating a prompt object from a TOML file:"
   ]
  },
  {
   "cell_type": "code",
   "execution_count": 16,
   "metadata": {},
   "outputs": [
    {
     "data": {
      "text/html": [
       "<div style='padding: 0; border-radius: 5px; font-family: Arial; line-height: 1.2rem; border: 1px solid currentColor'><div style='display: flex; align-items: top; padding: 0; border-right-width: 1px'><h4 style='margin: 0; padding: 8px; flex: 0 0 100px; '>System:</h4><p style='margin: 0; padding: 8px; border-left: 1px solid currentColor;'>You are a helpful assistant that has 20 years of experience in reading radiology reports and extracting data elements.</p></div><div style='display: flex; align-items: top; padding: 0;'><h4 style='margin: 0; padding: 8px; flex: 0 0 100px;'>User:</h4><p style='margin: 0; padding: 8px; flex-grow: 1; border-left: 1px solid currentColor;border-top: 1px solid currentColor;'><span style='background-color: rgb(255, 224, 178, 0.3);'>{{intro_prompt}}</span><br>I want you to extract the following data element from the report: <br><span style='background-color: rgb(255, 224, 178, 0.3);'>{{variable_name}}</span>:<br><span style='background-color: rgb(255, 224, 178, 0.3);'>{{hint}}</span><br><br>Provide a single answer:<br><br></p></div><div style='display: flex; align-items: top; padding: 0;'><h4 style='margin: 0; padding: 8px; flex: 0 0 100px;'>Assistant:</h4><p style='margin: 0; padding: 8px; flex-grow: 1; border-left: 1px solid currentColor;border-top: 1px solid currentColor;'><span style='background-color: rgb(178, 219, 255, 0.3);'>[... response ...]</span></p></div></div>"
      ],
      "text/plain": [
       "<IPython.core.display.HTML object>"
      ]
     },
     "metadata": {},
     "output_type": "display_data"
    },
    {
     "data": {
      "text/plain": []
     },
     "execution_count": 16,
     "metadata": {},
     "output_type": "execute_result"
    }
   ],
   "source": [
    "from radprompter import Prompt\n",
    "\n",
    "prompt = Prompt('04_Using-Schemas.toml')\n",
    "prompt"
   ]
  },
  {
   "cell_type": "markdown",
   "metadata": {},
   "source": [
    "The key feature of this TOML file is the `[SCHEMAS]` section. Here's an example schema:\n",
    "\n",
    "```toml\n",
    "[SCHEMAS.PulmonaryEmbolism]\n",
    "variable_name = \"Pulmonary Embolism\"\n",
    "intro_prompt = \"\"\"\n",
    "Carefully review the provided chest CT report (in the <report> tag). Ensure that each data element is accurately captured.\n",
    "Here is the report:\n",
    "<report>\n",
    "{{report}}\n",
    "</report>\n",
    "Please pay attention to the following details:\n",
    "- Your attention to detail is crucial for maintaining the integrity of the medical records.\n",
    "- You should not confabulate information, and if something is not mentioned, you should assume that it is `Absent` unless otherwise stated.\n",
    "- The report may contain additional information that is not relevant to the requested data elements. Please ignore that information.\n",
    "- We are interested at findings at the time of scan, not the previous ones, so only consider the impression and findings sections of the report.\n",
    "- Do not print anything else other than the provided output format.\n",
    "\"\"\"\n",
    "type = \"select\"\n",
    "options = [\"Present\", \"Absent\"]\n",
    "show_options_in_hint = true\n",
    "hint = \"\"\"\n",
    "Indicate `Present` if the report explicitly mentions the patient has pulmonary embolism in their CT scan.\n",
    "Indicate `Absent` if pulmonary embolism is not seen or if a previously observed pulmonary embolism is mentioned as resolved.\n",
    "\"\"\"\n",
    "```\n",
    "\n",
    "The bare minimum for a schema is the `variable_name`, which defines the name of the data element to extract, and `type`, which defines the variable type for Pydantic model creation and validation. The `type` can be either `int`, `float`, `string`, or `select`.\n",
    "\n",
    "If the `type` is set to \"select\", you can provide a list of `options` for the model to choose from. Setting `show_options_in_hint` to `true` will include these options in the hint text.\n",
    "\n",
    "Attributes of each schema will replace the `{{}}` placeholders in the original prompt. Additionally, they schemas can also contain `{{}}` placeholders themselves.\n",
    "\n",
    "Let's look at the schemas defined in our prompt:\n"
   ]
  },
  {
   "cell_type": "code",
   "execution_count": 17,
   "metadata": {},
   "outputs": [
    {
     "data": {
      "text/html": [
       "<div style='padding: 0; border-radius: 5px; font-family: Arial; line-height: 1.2rem; border: 1px solid currentColor'><div style='display: flex; align-items: top; padding: 0; border-right-width: 1px'><h4 style='margin: 0; padding: 8px; flex: 0 0 100px; '>System:</h4><p style='margin: 0; padding: 8px; border-left: 1px solid currentColor;'>You are a helpful assistant that has 20 years of experience in reading radiology reports and extracting data elements.</p></div><div style='display: flex; align-items: top; padding: 0;'><h4 style='margin: 0; padding: 8px; flex: 0 0 100px;'>User:</h4><p style='margin: 0; padding: 8px; flex-grow: 1; border-left: 1px solid currentColor;border-top: 1px solid currentColor;'>Carefully review the provided chest CT report (in the &lt;report&gt; tag). Ensure that each data element is accurately captured.<br><br>Here is the report:<br>&lt;report&gt;<br><span style='background-color: rgb(255, 224, 178, 0.3);'>{{report}}</span><br>&lt;/report&gt;<br><br>Please pay attention to the following details:<br>- Your attention to detail is crucial for maintaining the integrity of the medical records. <br>- You should not confabulate information, and if something is not mentioned, you should assume that it is `Absent` unless otherwise stated.<br>- The report may contain additional information that is not relevant to the requested data elements. Please ignore that information.<br>- We are interested at findings at the time of scan, not the previous ones, so only consider the impression and findings sections of the report.<br>- Do not print anything else other than the provided output format.<br><br>I want you to extract the following data element from the report: <br>Pulmonary Embolism:<br>Indicate `Present` if the report explicitly mentions the patient has pulmonary embolism in their CT scan. <br>Indicate `Absent` if pulmonary embolism is not seen or if a previously observed pulmonary embolism is mentioned as resolved.<br><br><br>Provide a single answer:<br><br></p></div><div style='display: flex; align-items: top; padding: 0;'><h4 style='margin: 0; padding: 8px; flex: 0 0 100px;'>Assistant:</h4><p style='margin: 0; padding: 8px; flex-grow: 1; border-left: 1px solid currentColor;border-top: 1px solid currentColor;'><span style='background-color: rgb(178, 219, 255, 0.3);'>[... response ...]</span></p></div></div>"
      ],
      "text/plain": [
       "<IPython.core.display.HTML object>"
      ]
     },
     "metadata": {},
     "output_type": "display_data"
    },
    {
     "data": {
      "text/plain": []
     },
     "execution_count": 17,
     "metadata": {},
     "output_type": "execute_result"
    }
   ],
   "source": [
    "prompt.schemas[0]"
   ]
  },
  {
   "cell_type": "markdown",
   "metadata": {},
   "source": [
    "The first schema contains the introduction prompt with the radiology report and general instructions. You see that the `{{intro_prompt}}` placeholder is now replaced with the schema's `intro_prompt` attribute. Also you can see that the replaced prompt contains a `{{report}}` placeholder that will be populated when we pass in reports.\n",
    "\n",
    "Subsequent schemas focus on specific data elements:"
   ]
  },
  {
   "cell_type": "code",
   "execution_count": 18,
   "metadata": {},
   "outputs": [
    {
     "data": {
      "text/html": [
       "<div style='padding: 0; border-radius: 5px; font-family: Arial; line-height: 1.2rem; border: 1px solid currentColor'><div style='display: flex; align-items: top; padding: 0; border-right-width: 1px'><h4 style='margin: 0; padding: 8px; flex: 0 0 100px; '>System:</h4><p style='margin: 0; padding: 8px; border-left: 1px solid currentColor;'>You are a helpful assistant that has 20 years of experience in reading radiology reports and extracting data elements.</p></div><div style='display: flex; align-items: top; padding: 0;'><h4 style='margin: 0; padding: 8px; flex: 0 0 100px;'>User:</h4><p style='margin: 0; padding: 8px; flex-grow: 1; border-left: 1px solid currentColor;border-top: 1px solid currentColor;'><br>I want you to extract the following data element from the report: <br>Patient Age:<br>Extract the patient&#x27;s age in years from the report. If age is not explicitly mentioned, respond with -1.<br>Provide only the numerical value (e.g., 65).<br><br><br>Provide a single answer:<br><br></p></div><div style='display: flex; align-items: top; padding: 0;'><h4 style='margin: 0; padding: 8px; flex: 0 0 100px;'>Assistant:</h4><p style='margin: 0; padding: 8px; flex-grow: 1; border-left: 1px solid currentColor;border-top: 1px solid currentColor;'><span style='background-color: rgb(178, 219, 255, 0.3);'>[... response ...]</span></p></div></div>"
      ],
      "text/plain": [
       "<IPython.core.display.HTML object>"
      ]
     },
     "metadata": {},
     "output_type": "display_data"
    },
    {
     "data": {
      "text/plain": []
     },
     "execution_count": 18,
     "metadata": {},
     "output_type": "execute_result"
    }
   ],
   "source": [
    "prompt.schemas[1]"
   ]
  },
  {
   "cell_type": "markdown",
   "metadata": {},
   "source": [
    "## Client & Engine\n",
    "\n",
    "We'll use the `vLLMClient` and `RadPrompter` engine as in previous tutorials:"
   ]
  },
  {
   "cell_type": "code",
   "execution_count": 19,
   "metadata": {},
   "outputs": [],
   "source": [
    "from radprompter import RadPrompter, vLLMClient\n",
    "\n",
    "client = vLLMClient(\n",
    "    model = \"google/medgemma-4b-it\",\n",
    "    api_base = \"http://localhost:8000/v1\",\n",
    "    temperature = 0.0,\n",
    "    seed=42\n",
    ")\n",
    "\n",
    "engine = RadPrompter(\n",
    "    client=client,\n",
    "    prompt=prompt, \n",
    "    output_file=\"output_tutorial_4.csv\",\n",
    "    concurrency=2,\n",
    "    hide_blocks=False,\n",
    ")"
   ]
  },
  {
   "cell_type": "markdown",
   "metadata": {},
   "source": [
    "The `hide_blocks` parameter is an important setting that determines how the model processes the schemas.\n",
    "\n",
    "When `hide_blocks=False`, the model will see all of the previously processed schemas when working on the current schema. This means that when the model is answering questions for a particular schema, it has access to the information it has already extracted from the previous schemas.\n",
    "\n",
    "On the other hand, when `hide_blocks=True`, the schemas will be processed independently. The model will only see each schema in isolation, without having access to its answers to the previous schemas.\n",
    "\n",
    "The recommendation is to use `hide_blocks=False` when the schemas are related to each other, as in this case where all the schemas are extracting information about pulmonary embolism. The model's answers to earlier questions about the presence and location of the embolism are relevant to answering subsequent questions.\n",
    "\n",
    "However, you should use `hide_blocks=True` when the pathologies or the extracted information are independent. For example, if you want to extract five different, unrelated pathologies from a single report, you would set `hide_blocks=True` so that the model's answers about one pathology don't influence its answers about the others."
   ]
  },
  {
   "cell_type": "markdown",
   "metadata": {},
   "source": [
    "And we run it on our sample reports:"
   ]
  },
  {
   "cell_type": "code",
   "execution_count": 20,
   "metadata": {},
   "outputs": [
    {
     "name": "stderr",
     "output_type": "stream",
     "text": [
      "Processing items:   0%|          | 0/3 [00:00<?, ?it/s]"
     ]
    },
    {
     "name": "stderr",
     "output_type": "stream",
     "text": [
      "Processing items: 100%|██████████| 3/3 [00:33<00:00, 11.18s/it]\n"
     ]
    }
   ],
   "source": [
    "import glob\n",
    "\n",
    "report_files = glob.glob(\"../../sample_reports/*.txt\")\n",
    "\n",
    "reports = []\n",
    "for file in report_files:\n",
    "    with open(file, \"r\") as f:\n",
    "        reports.append({\"report\": f.read(), \"file_name\": file})\n",
    "\n",
    "engine(reports)"
   ]
  },
  {
   "cell_type": "markdown",
   "metadata": {},
   "source": [
    "The engine will process each report using **ALL** the schemas in the prompt and save the results to `output_tutorial_4.csv`."
   ]
  },
  {
   "cell_type": "code",
   "execution_count": 21,
   "metadata": {},
   "outputs": [
    {
     "data": {
      "text/html": [
       "<div>\n",
       "<style scoped>\n",
       "    .dataframe tbody tr th:only-of-type {\n",
       "        vertical-align: middle;\n",
       "    }\n",
       "\n",
       "    .dataframe tbody tr th {\n",
       "        vertical-align: top;\n",
       "    }\n",
       "\n",
       "    .dataframe thead th {\n",
       "        text-align: right;\n",
       "    }\n",
       "</style>\n",
       "<table border=\"1\" class=\"dataframe\">\n",
       "  <thead>\n",
       "    <tr style=\"text-align: right;\">\n",
       "      <th></th>\n",
       "      <th>Pulmonary Embolism_response</th>\n",
       "      <th>Patient Age_response</th>\n",
       "      <th>Largest Lesion Size_response</th>\n",
       "      <th>Clinical Impression_response</th>\n",
       "      <th>Number of Pulmonary Emboli_response</th>\n",
       "      <th>Left-sided Pulmonary Embolism_response</th>\n",
       "      <th>Right-sided Pulmonary Embolism_response</th>\n",
       "      <th>Acute Pulmonary Embolism_response</th>\n",
       "      <th>Chronic Pulmonary Embolism_response</th>\n",
       "      <th>Right Heart Strain_response</th>\n",
       "      <th>Pulmonary Artery Hypertension_response</th>\n",
       "      <th>report</th>\n",
       "      <th>file_name</th>\n",
       "    </tr>\n",
       "    <tr>\n",
       "      <th>index</th>\n",
       "      <th></th>\n",
       "      <th></th>\n",
       "      <th></th>\n",
       "      <th></th>\n",
       "      <th></th>\n",
       "      <th></th>\n",
       "      <th></th>\n",
       "      <th></th>\n",
       "      <th></th>\n",
       "      <th></th>\n",
       "      <th></th>\n",
       "      <th></th>\n",
       "      <th></th>\n",
       "    </tr>\n",
       "  </thead>\n",
       "  <tbody>\n",
       "    <tr>\n",
       "      <th>0</th>\n",
       "      <td>{\\n\"Pulmonary Embolism\": \"Present\"\\n}</td>\n",
       "      <td>{\\n\"Patient Age\": 67\\n}</td>\n",
       "      <td>{\\n\"Largest Lesion Size\": 3.4\\n}</td>\n",
       "      <td>{\\n\"Clinical Impression\": \"Bilateral pulmonary...</td>\n",
       "      <td>{\\n\"Number of Pulmonary Emboli\": 2\\n}</td>\n",
       "      <td>{\\n\"Left-sided Pulmonary Embolism\": \"Yes\"\\n}</td>\n",
       "      <td>{\\n\"Right-sided Pulmonary Embolism\": \"Yes\"\\n}</td>\n",
       "      <td>{\\n\"Acute Pulmonary Embolism\": \"No\"\\n}</td>\n",
       "      <td>{\\n\"Chronic Pulmonary Embolism\": \"No\"\\n}</td>\n",
       "      <td>{\\n\"Right Heart Strain\": \"No\"\\n}</td>\n",
       "      <td>{\\n\"Pulmonary Artery Hypertension\": \"Yes\"\\n}</td>\n",
       "      <td>Clinical Information:\\n67-year-old male with s...</td>\n",
       "      <td>../../sample_reports/sample_report_1.txt</td>\n",
       "    </tr>\n",
       "    <tr>\n",
       "      <th>1</th>\n",
       "      <td>{\\n  \"Pulmonary Embolism\": \"Present\"\\n}</td>\n",
       "      <td>{\\n  \"Patient Age\": 72\\n}</td>\n",
       "      <td>{\\n  \"Largest Lesion Size\": 4.6\\n}</td>\n",
       "      <td>{\\n  \"Clinical Impression\": \"Saddle pulmonary ...</td>\n",
       "      <td>{\\n  \"Number of Pulmonary Emboli\": -1\\n}</td>\n",
       "      <td>{\\n  \"Left-sided Pulmonary Embolism\": \"Yes\"\\n}</td>\n",
       "      <td>{\\n  \"Right-sided Pulmonary Embolism\": \"Yes\"\\n}</td>\n",
       "      <td>{\\n  \"Acute Pulmonary Embolism\": \"Yes\"\\n}</td>\n",
       "      <td>{\\n  \"Chronic Pulmonary Embolism\": \"No\"\\n}</td>\n",
       "      <td>{\\n  \"Right Heart Strain\": \"Yes\"\\n}</td>\n",
       "      <td>{\\n  \"Pulmonary Artery Hypertension\": \"No\"\\n}</td>\n",
       "      <td>Clinical Information:\\n72-year-old female with...</td>\n",
       "      <td>../../sample_reports/sample_report_2.txt</td>\n",
       "    </tr>\n",
       "    <tr>\n",
       "      <th>2</th>\n",
       "      <td>{\"Pulmonary Embolism\": \"Present\"}</td>\n",
       "      <td>{\"Patient Age\": 65}</td>\n",
       "      <td>{\"Largest Lesion Size\": -1.0}</td>\n",
       "      <td>{\"Clinical Impression\": \"Subsegmental pulmonar...</td>\n",
       "      <td>{\"Number of Pulmonary Emboli\": 2}</td>\n",
       "      <td>{\"Left-sided Pulmonary Embolism\": \"Yes\"}</td>\n",
       "      <td>{\"Right-sided Pulmonary Embolism\": \"Yes\"}</td>\n",
       "      <td>{\"Acute Pulmonary Embolism\": \"No\"}</td>\n",
       "      <td>{\"Chronic Pulmonary Embolism\": \"No\"}</td>\n",
       "      <td>{\"Right Heart Strain\": \"No\"}</td>\n",
       "      <td>{\"Pulmonary Artery Hypertension\": \"No\"}</td>\n",
       "      <td>Here is an example radiology report describing...</td>\n",
       "      <td>../../sample_reports/sample_report_3.txt</td>\n",
       "    </tr>\n",
       "  </tbody>\n",
       "</table>\n",
       "</div>"
      ],
      "text/plain": [
       "                   Pulmonary Embolism_response       Patient Age_response  \\\n",
       "index                                                                       \n",
       "0        {\\n\"Pulmonary Embolism\": \"Present\"\\n}    {\\n\"Patient Age\": 67\\n}   \n",
       "1      {\\n  \"Pulmonary Embolism\": \"Present\"\\n}  {\\n  \"Patient Age\": 72\\n}   \n",
       "2            {\"Pulmonary Embolism\": \"Present\"}        {\"Patient Age\": 65}   \n",
       "\n",
       "             Largest Lesion Size_response  \\\n",
       "index                                       \n",
       "0        {\\n\"Largest Lesion Size\": 3.4\\n}   \n",
       "1      {\\n  \"Largest Lesion Size\": 4.6\\n}   \n",
       "2           {\"Largest Lesion Size\": -1.0}   \n",
       "\n",
       "                            Clinical Impression_response  \\\n",
       "index                                                      \n",
       "0      {\\n\"Clinical Impression\": \"Bilateral pulmonary...   \n",
       "1      {\\n  \"Clinical Impression\": \"Saddle pulmonary ...   \n",
       "2      {\"Clinical Impression\": \"Subsegmental pulmonar...   \n",
       "\n",
       "            Number of Pulmonary Emboli_response  \\\n",
       "index                                             \n",
       "0         {\\n\"Number of Pulmonary Emboli\": 2\\n}   \n",
       "1      {\\n  \"Number of Pulmonary Emboli\": -1\\n}   \n",
       "2             {\"Number of Pulmonary Emboli\": 2}   \n",
       "\n",
       "               Left-sided Pulmonary Embolism_response  \\\n",
       "index                                                   \n",
       "0        {\\n\"Left-sided Pulmonary Embolism\": \"Yes\"\\n}   \n",
       "1      {\\n  \"Left-sided Pulmonary Embolism\": \"Yes\"\\n}   \n",
       "2            {\"Left-sided Pulmonary Embolism\": \"Yes\"}   \n",
       "\n",
       "               Right-sided Pulmonary Embolism_response  \\\n",
       "index                                                    \n",
       "0        {\\n\"Right-sided Pulmonary Embolism\": \"Yes\"\\n}   \n",
       "1      {\\n  \"Right-sided Pulmonary Embolism\": \"Yes\"\\n}   \n",
       "2            {\"Right-sided Pulmonary Embolism\": \"Yes\"}   \n",
       "\n",
       "               Acute Pulmonary Embolism_response  \\\n",
       "index                                              \n",
       "0         {\\n\"Acute Pulmonary Embolism\": \"No\"\\n}   \n",
       "1      {\\n  \"Acute Pulmonary Embolism\": \"Yes\"\\n}   \n",
       "2             {\"Acute Pulmonary Embolism\": \"No\"}   \n",
       "\n",
       "              Chronic Pulmonary Embolism_response  \\\n",
       "index                                               \n",
       "0        {\\n\"Chronic Pulmonary Embolism\": \"No\"\\n}   \n",
       "1      {\\n  \"Chronic Pulmonary Embolism\": \"No\"\\n}   \n",
       "2            {\"Chronic Pulmonary Embolism\": \"No\"}   \n",
       "\n",
       "               Right Heart Strain_response  \\\n",
       "index                                        \n",
       "0         {\\n\"Right Heart Strain\": \"No\"\\n}   \n",
       "1      {\\n  \"Right Heart Strain\": \"Yes\"\\n}   \n",
       "2             {\"Right Heart Strain\": \"No\"}   \n",
       "\n",
       "              Pulmonary Artery Hypertension_response  \\\n",
       "index                                                  \n",
       "0       {\\n\"Pulmonary Artery Hypertension\": \"Yes\"\\n}   \n",
       "1      {\\n  \"Pulmonary Artery Hypertension\": \"No\"\\n}   \n",
       "2            {\"Pulmonary Artery Hypertension\": \"No\"}   \n",
       "\n",
       "                                                  report  \\\n",
       "index                                                      \n",
       "0      Clinical Information:\\n67-year-old male with s...   \n",
       "1      Clinical Information:\\n72-year-old female with...   \n",
       "2      Here is an example radiology report describing...   \n",
       "\n",
       "                                      file_name  \n",
       "index                                            \n",
       "0      ../../sample_reports/sample_report_1.txt  \n",
       "1      ../../sample_reports/sample_report_2.txt  \n",
       "2      ../../sample_reports/sample_report_3.txt  "
      ]
     },
     "execution_count": 21,
     "metadata": {},
     "output_type": "execute_result"
    }
   ],
   "source": [
    "import pandas as pd\n",
    "\n",
    "df = pd.read_csv(\"output_tutorial_4.csv\", index_col='index')\n",
    "df"
   ]
  },
  {
   "cell_type": "markdown",
   "metadata": {},
   "source": [
    "As you can see, response to each schema are recorded in `{variable_name}_response` column. For example the response for the first schema is stored in `Pulmonary Embolism_response`. Note that you can employ multi-turn prompting for processing schemas. In that case, the model responses would be recorded in `{variable_name}_response_1` and `{variable_name}_response_2` columns."
   ]
  },
  {
   "cell_type": "markdown",
   "metadata": {},
   "source": [
    "Finally, we save the log:"
   ]
  },
  {
   "cell_type": "code",
   "execution_count": 22,
   "metadata": {},
   "outputs": [
    {
     "name": "stdout",
     "output_type": "stream",
     "text": [
      "RadPrompter Version: 2.0.0\n",
      "Model: hosted_vllm/google/medgemma-4b-it\n",
      "Seed: 42\n",
      "Temperature: 0.0\n",
      "Frequency Penalty: 0.0\n",
      "Top-P: 1.0\n",
      "Prompt TOML: /opt/localdata/Data/Datathon_BKh/LLMSynth/RadPrompter/tutorials/04_Using-Schemas/04_Using-Schemas.toml\n",
      "Prompt Version: 0.1\n",
      "Prompt Hash: 1602d910820c351d7aa684e81ecc7981\n",
      "Concurrency Factor: 2\n",
      "Use Pydantic: True\n",
      "Start Time: 2025-06-12 20:22:41\n",
      "End Time: 2025-06-12 20:23:15\n",
      "Duration: 34.0\n",
      "Number of Items: 3\n",
      "Average Processing Time: 11.333333333333334\n",
      "\n",
      "\n",
      "-------------------- *** - Prompt Content - *** --------------------\n",
      "[METADATA]\n",
      "version = 0.1\n",
      "description = \"A sample prompt for RadPrompter\"\n",
      "\n",
      "[PROMPTS]\n",
      "\n",
      "system_prompt = \"You are a helpful assistant that has 20 years of experience in reading radiology reports and extracting data elements.\"\n",
      "\n",
      "user_prompt_intro = \"{{intro_prompt}}\\n\"\n",
      "\n",
      "user_prompt_no_cot = \"\"\"\n",
      "I want you to extract the following data element from the report: \n",
      "{{variable_name}}:\n",
      "{{hint}}\n",
      "\n",
      "Provide a single answer:\n",
      "\n",
      "\"\"\"\n",
      "\n",
      "[CONSTRUCTOR]\n",
      "system = \"rdp(system_prompt)\"\n",
      "user = [\n",
      "\"rdp(user_prompt_intro + user_prompt_no_cot)\"\n",
      "]\n",
      "\n",
      "[SCHEMAS]\n",
      "[SCHEMAS.PulmonaryEmbolism]\n",
      "variable_name = \"Pulmonary Embolism\"\n",
      "intro_prompt = \"\"\"\n",
      "Carefully review the provided chest CT report (in the <report> tag). Ensure that each data element is accurately captured.\n",
      "\n",
      "Here is the report:\n",
      "<report>\n",
      "{{report}}\n",
      "</report>\n",
      "\n",
      "Please pay attention to the following details:\n",
      "- Your attention to detail is crucial for maintaining the integrity of the medical records. \n",
      "- You should not confabulate information, and if something is not mentioned, you should assume that it is `Absent` unless otherwise stated.\n",
      "- The report may contain additional information that is not relevant to the requested data elements. Please ignore that information.\n",
      "- We are interested at findings at the time of scan, not the previous ones, so only consider the impression and findings sections of the report.\n",
      "- Do not print anything else other than the provided output format.\n",
      "\"\"\"\n",
      "type = \"select\"\n",
      "options = [\"Present\", \"Absent\"]\n",
      "show_options_in_hint = true\n",
      "hint = \"\"\"\n",
      "Indicate `Present` if the report explicitly mentions the patient has pulmonary embolism in their CT scan. \n",
      "Indicate `Absent` if pulmonary embolism is not seen or if a previously observed pulmonary embolism is mentioned as resolved.\n",
      "\"\"\"\n",
      "\n",
      "[SCHEMAS.PatientAge]\n",
      "variable_name = \"Patient Age\"\n",
      "intro_prompt = \"\"\n",
      "type = \"int\"\n",
      "show_options_in_hint = false\n",
      "hint = \"\"\"\n",
      "Extract the patient's age in years from the report. If age is not explicitly mentioned, respond with -1.\n",
      "Provide only the numerical value (e.g., 65).\n",
      "\"\"\"\n",
      "\n",
      "[SCHEMAS.LesionSize]\n",
      "variable_name = \"Largest Lesion Size\"\n",
      "intro_prompt = \"\"\n",
      "type = \"float\"\n",
      "show_options_in_hint = false\n",
      "hint = \"\"\"\n",
      "Extract the size of the largest lesion mentioned in the report in centimeters.\n",
      "If multiple dimensions are given, use the largest dimension.\n",
      "If no lesion size is mentioned, respond with -1.0.\n",
      "Provide only the numerical value (e.g., 2.5).\n",
      "\"\"\"\n",
      "\n",
      "[SCHEMAS.ClinicalImpression]\n",
      "variable_name = \"Clinical Impression\"\n",
      "intro_prompt = \"\"\n",
      "type = \"string\"\n",
      "show_options_in_hint = false\n",
      "hint = \"\"\"\n",
      "Extract the main clinical impression or conclusion from the report.\n",
      "Provide the exact text from the impression section, or summarize the key findings if no explicit impression is stated.\n",
      "If no clear impression is available, respond with \"Not specified\".\n",
      "\"\"\"\n",
      "\n",
      "[SCHEMAS.NumberOfEmboli]\n",
      "variable_name = \"Number of Pulmonary Emboli\"\n",
      "intro_prompt = \"\"\n",
      "type = \"int\"\n",
      "show_options_in_hint = false\n",
      "hint = \"\"\"\n",
      "Count the number of pulmonary emboli explicitly mentioned in the report.\n",
      "If the report mentions \"multiple\" without a specific count, respond with -1.\n",
      "If no emboli are present, respond with 0.\n",
      "Provide only the numerical count.\n",
      "\"\"\"\n",
      "\n",
      "[SCHEMAS.Left]\n",
      "variable_name = \"Left-sided Pulmonary Embolism\"\n",
      "intro_prompt = \"\"\n",
      "type = \"select\"\n",
      "options = [\"Yes\", \"No\"]\n",
      "show_options_in_hint = true\n",
      "hint = \"\"\"\n",
      "Indicate `Yes` if the report explicitly mentions the patient has a left-sided pulmonary embolism in their CT scan. \n",
      "Indicate `Yes` if the report explicitly mentions the patient has a bilateral pulmonary embolism in their CT scan or if patient has both left and right sided pulmonary embolism.\n",
      "Indicate `No` if the report doesn't explicitly mentions the patient has a left-sided or bilateral pulmonary embolism in their CT scan. \n",
      "\"\"\"\n",
      "\n",
      "[SCHEMAS.Right]\n",
      "variable_name = \"Right-sided Pulmonary Embolism\"\n",
      "type = \"select\"\n",
      "intro_prompt = \"\"\n",
      "options = [\"Yes\", \"No\"]\n",
      "show_options_in_hint = true\n",
      "hint = \"\"\"\n",
      "Indicate `Yes` if the report explicitly mentions the patient has a right-sided pulmonary embolism in their CT scan. \n",
      "Indicate `Yes` if the report explicitly mentions the patient has a bilateral pulmonary embolism in their CT scan or if patient has both left and right sided pulmonary embolism.\n",
      "Indicate `No` if the report doesn't explicitly mentions the patient has a right-sided or bilateral pulmonary embolism in their CT scan. \n",
      "\"\"\"\n",
      "\n",
      "[SCHEMAS.Acute]\n",
      "variable_name = \"Acute Pulmonary Embolism\"\n",
      "type = \"select\"\n",
      "intro_prompt = \"\"\n",
      "options = [\"Yes\", \"No\"]\n",
      "show_options_in_hint = true\n",
      "hint = \"\"\"\n",
      "Indicate `Yes` if the report explicitly mentions the patient has an acute pulmonary embolism in their CT scan. \n",
      "Indicate `No` if the report doesn't explicitly mentions the patient has an acute pulmonary embolism in their CT scan. \n",
      "\"\"\"\n",
      "\n",
      "[SCHEMAS.Chronic]\n",
      "variable_name = \"Chronic Pulmonary Embolism\"\n",
      "type = \"select\"\n",
      "intro_prompt = \"\"\n",
      "options = [\"Yes\", \"No\"]\n",
      "show_options_in_hint = true\n",
      "hint = \"\"\"\n",
      "Indicate `Yes` if the report explicitly mentions the patient has an chronic pulmonary embolism in their CT scan. \n",
      "Indicate `No` if the report doesn't explicitly mentions the patient has an chronic pulmonary embolism in their CT scan. \n",
      "\"\"\"\n",
      "\n",
      "[SCHEMAS.RightHeartStrain]\n",
      "variable_name = \"Right Heart Strain\"\n",
      "type = \"select\"\n",
      "intro_prompt = \"\"\n",
      "options = [\"Yes\", \"No\"]\n",
      "show_options_in_hint = true\n",
      "hint = \"\"\"\n",
      "Indicate `Yes` if the report does explicitly mentions that the patient has a right heart strain in their CT scan. \n",
      "Indicate `No` if the report doesn't explicitly mentions that the patient has a right heart strain in their CT scan. \n",
      "\"\"\"\n",
      "\n",
      "[SCHEMAS.PulmonaryArteryHypertension]\n",
      "variable_name = \"Pulmonary Artery Hypertension\"\n",
      "type = \"select\"\n",
      "intro_prompt = \"\"\n",
      "options = [\"Yes\", \"No\"]\n",
      "show_options_in_hint = true\n",
      "hint = \"\"\"\n",
      "Indicate `Yes` if the report does explicitly mentions that the patient has a pulmonary artery hypertension in their CT scan. \n",
      "Indicate `No` if the report doesn't explicitly mentions that the patient has a pulmonary artery hypertension in their CT scan. \n",
      "\"\"\"\n",
      "\n"
     ]
    }
   ],
   "source": [
    "engine.save_log(\"log_tutorial_4.log\")\n",
    "\n",
    "with open(\"log_tutorial_4.log\", \"r\") as f:\n",
    "    print(f.read())"
   ]
  },
  {
   "cell_type": "markdown",
   "metadata": {},
   "source": [
    "Schemas are a powerful feature in RadPrompter that allow us to extract structured data from unstructured radiology reports. By defining the data elements we're interested in and providing hints and constraints, we can guide the model to produce the desired output format."
   ]
  }
 ],
 "metadata": {
  "kernelspec": {
   "display_name": "hf",
   "language": "python",
   "name": "python3"
  },
  "language_info": {
   "codemirror_mode": {
    "name": "ipython",
    "version": 3
   },
   "file_extension": ".py",
   "mimetype": "text/x-python",
   "name": "python",
   "nbconvert_exporter": "python",
   "pygments_lexer": "ipython3",
   "version": "3.10.14"
  }
 },
 "nbformat": 4,
 "nbformat_minor": 4
}
