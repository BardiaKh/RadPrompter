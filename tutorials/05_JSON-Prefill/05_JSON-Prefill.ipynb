{
 "cells": [
  {
   "cell_type": "markdown",
   "metadata": {},
   "source": [
    "# Tutorial 5: Assistant Prefill in RadPrompter\n",
    "\n",
    "In this tutorial, we'll explore how to use assistant prefills in RadPrompter. Assistant prefills are pre-filled responses that guide the model to generate outputs in a specific format.\n",
    "\n",
    "**Note:** Assistant prefills are not currently supported with the `OpenAIClient`. However, they are supported by other clients such as `HuggingFaceClient`, `vLLMClient` and `OllamaClient`."
   ]
  },
  {
   "cell_type": "markdown",
   "metadata": {},
   "source": [
    "## Installation\n",
    "\n",
    "If you don't have `RadPrompter` installed, you can install it using pip:\n",
    "\n",
    "```bash\n",
    "pip install radprompter\n",
    "```"
   ]
  },
  {
   "cell_type": "markdown",
   "metadata": {},
   "source": [
    "## Prompt\n",
    "\n",
    "As always, we start by importing the `Prompt` class and creating a prompt object from a TOML file:"
   ]
  },
  {
   "cell_type": "code",
   "execution_count": 1,
   "metadata": {},
   "outputs": [
    {
     "data": {
      "text/html": [
       "<div style='padding: 0; border-radius: 5px; font-family: Arial; line-height: 1.2rem; border: 1px solid currentColor'><div style='display: flex; align-items: top; padding: 0; border-right-width: 1px'><h4 style='margin: 0; padding: 8px; flex: 0 0 100px; '>System:</h4><p style='margin: 0; padding: 8px; border-left: 1px solid currentColor;'>You are a helpful assistant that has 20 years of experience in reading radiology reports and extracting data elements.</p></div><div style='display: flex; align-items: top; padding: 0;'><h4 style='margin: 0; padding: 8px; flex: 0 0 100px;'>User:</h4><p style='margin: 0; padding: 8px; flex-grow: 1; border-left: 1px solid currentColor;border-top: 1px solid currentColor;'><span style='background-color: rgb(255, 224, 178, 0.3);'>{{intro_prompt}}</span><br>I want you to extract the following data element from the report: <br><span style='background-color: rgb(255, 224, 178, 0.3);'>{{hint}}</span><br><br>Your final answer elements in a valid JSON format and is between &lt;json&gt; and &lt;/json&gt; tags:<br><br>&lt;json&gt;<br>{<br>  &quot;<span style='background-color: rgb(255, 224, 178, 0.3);'>{{variable_name}}</span>&quot;: &quot;answer&quot;<br>}<br>&lt;/json&gt;<br></p></div><div style='display: flex; align-items: top; padding: 0;'><h4 style='margin: 0; padding: 8px; flex: 0 0 100px;'>Assistant:</h4><p style='margin: 0; padding: 8px; flex-grow: 1; border-left: 1px solid currentColor;border-top: 1px solid currentColor;'>&lt;json&gt;<br>{<br>  &quot;<span style='background-color: rgb(255, 224, 178, 0.3);'>{{variable_name}}</span>&quot; : &quot;<span style='background-color: rgb(178, 219, 255, 0.3);'>[... response ...]</span>&lt;/json&gt;</p></div></div>"
      ],
      "text/plain": [
       "<IPython.core.display.HTML object>"
      ]
     },
     "metadata": {},
     "output_type": "display_data"
    },
    {
     "data": {
      "text/plain": []
     },
     "execution_count": 1,
     "metadata": {},
     "output_type": "execute_result"
    }
   ],
   "source": [
    "from radprompter import Prompt\n",
    "\n",
    "prompt = Prompt('05_JSON-Prefill.toml')\n",
    "prompt"
   ]
  },
  {
   "cell_type": "markdown",
   "metadata": {},
   "source": [
    "The key feature of this TOML file is the `assistant_response_template`:\n",
    "\n",
    "```toml\n",
    "assistant_response_template = \"\"\"\n",
    "<json>\n",
    "{\n",
    "  \"{{variable_name}}\" : \\\"\"\"\"\n",
    "```\n",
    "\n",
    "This prefill requires the model to generate the output in JSON format. We also included the `{{variable_name}}` to replace this placeholder with each schema's `variable_name` attribute.\n",
    "\n",
    "We also add a `stop_tags` field in the `[CONSTRUCTOR]` section:\n",
    "\n",
    "```toml\n",
    "[CONSTRUCTOR]\n",
    "system = \"rdp(system_prompt)\"\n",
    "user = \"rdp(user_prompt_intro + user_prompt_cot)\"\n",
    "response_templates = \"rdp(assistant_response_template)\"\n",
    "stop_tags = \"</json>\"\n",
    "```\n",
    "\n",
    "This tells the model to stop generating when it reaches the `</json>` tag, ensuring that it doesn't generate any extra text after the JSON object.\n",
    "\n",
    "Let's look at the first schema:\n"
   ]
  },
  {
   "cell_type": "code",
   "execution_count": 2,
   "metadata": {},
   "outputs": [
    {
     "data": {
      "text/html": [
       "<div style='padding: 0; border-radius: 5px; font-family: Arial; line-height: 1.2rem; border: 1px solid currentColor'><div style='display: flex; align-items: top; padding: 0; border-right-width: 1px'><h4 style='margin: 0; padding: 8px; flex: 0 0 100px; '>System:</h4><p style='margin: 0; padding: 8px; border-left: 1px solid currentColor;'>You are a helpful assistant that has 20 years of experience in reading radiology reports and extracting data elements.</p></div><div style='display: flex; align-items: top; padding: 0;'><h4 style='margin: 0; padding: 8px; flex: 0 0 100px;'>User:</h4><p style='margin: 0; padding: 8px; flex-grow: 1; border-left: 1px solid currentColor;border-top: 1px solid currentColor;'><br>I want you to extract the following data element from the report: <br>&#x27;Laterality&#x27;<br>Here are your options and you can explicitly use one of these:<br>  - `Left`<br>  - `Right`<br>  - `Bilateral`<br>  - `Not Mentioned`<br><br>Hint: Indicate `Left` if the report explicitly mentions the patient has a left-sided pulmonary embolism in their CT scan. <br>Indicate `Right` if the report explicitly mentions the patient has a right-sided pulmonary embolism in their CT scan. <br>Indicate `Bilateral` if the report explicitly mentions the patient has a bilateral pulmonary embolism in their CT scan or if patient has both left and right sided pulmonary embolism.<br>Indicate `Not Mentioned` if side of pulmonary embolism is not mentioned.<br><br><br>Your final answer elements in a valid JSON format and is between &lt;json&gt; and &lt;/json&gt; tags:<br><br>&lt;json&gt;<br>{<br>  &quot;Laterality&quot;: &quot;answer&quot;<br>}<br>&lt;/json&gt;<br></p></div><div style='display: flex; align-items: top; padding: 0;'><h4 style='margin: 0; padding: 8px; flex: 0 0 100px;'>Assistant:</h4><p style='margin: 0; padding: 8px; flex-grow: 1; border-left: 1px solid currentColor;border-top: 1px solid currentColor;'>&lt;json&gt;<br>{<br>  &quot;Laterality&quot; : &quot;<span style='background-color: rgb(178, 219, 255, 0.3);'>[... response ...]</span>&lt;/json&gt;</p></div></div>"
      ],
      "text/plain": [
       "<IPython.core.display.HTML object>"
      ]
     },
     "metadata": {},
     "output_type": "display_data"
    },
    {
     "data": {
      "text/plain": []
     },
     "execution_count": 2,
     "metadata": {},
     "output_type": "execute_result"
    }
   ],
   "source": [
    "prompt.schemas[1]"
   ]
  },
  {
   "cell_type": "markdown",
   "metadata": {},
   "source": [
    "You can see the prefilled assistant response, preceding model's `[... response ...]`."
   ]
  },
  {
   "cell_type": "markdown",
   "metadata": {},
   "source": [
    "## Client and Engine\n",
    "\n",
    "We'll use the `vLLMClient` and `RadPrompter` engine:"
   ]
  },
  {
   "cell_type": "code",
   "execution_count": 3,
   "metadata": {},
   "outputs": [],
   "source": [
    "from radprompter import RadPrompter, vLLMClient\n",
    "\n",
    "client = vLLMClient(\n",
    "    model = \"meta-llama/Meta-Llama-3-8B-Instruct\",\n",
    "    base_url = \"http://localhost:9999/v1\",\n",
    "    temperature = 0.0,\n",
    "    seed=42\n",
    ")\n",
    "\n",
    "engine = RadPrompter(\n",
    "    client=client,\n",
    "    prompt=prompt, \n",
    "    output_file=\"output_tutorial_5.csv\",\n",
    "    concurrency=2,\n",
    "    hide_blocks=False,\n",
    ")"
   ]
  },
  {
   "cell_type": "markdown",
   "metadata": {},
   "source": [
    "And we run it on our sample reports:"
   ]
  },
  {
   "cell_type": "code",
   "execution_count": 4,
   "metadata": {},
   "outputs": [
    {
     "name": "stderr",
     "output_type": "stream",
     "text": [
      "Processing items: 100%|██████████| 3/3 [00:02<00:00,  1.08it/s]\n"
     ]
    }
   ],
   "source": [
    "import glob\n",
    "\n",
    "report_files = glob.glob(\"../../sample_reports/*.txt\")\n",
    "\n",
    "reports = []\n",
    "for file in report_files:\n",
    "    with open(file, \"r\") as f:\n",
    "        reports.append({\"report\": f.read(), \"file_name\": file})\n",
    "\n",
    "engine(reports)"
   ]
  },
  {
   "cell_type": "markdown",
   "metadata": {},
   "source": [
    "The engine will process each report using **ALL** the schemas in the prompt and save the results to `output_tutorial_5.csv`."
   ]
  },
  {
   "cell_type": "code",
   "execution_count": 5,
   "metadata": {},
   "outputs": [
    {
     "data": {
      "text/html": [
       "<div>\n",
       "<style scoped>\n",
       "    .dataframe tbody tr th:only-of-type {\n",
       "        vertical-align: middle;\n",
       "    }\n",
       "\n",
       "    .dataframe tbody tr th {\n",
       "        vertical-align: top;\n",
       "    }\n",
       "\n",
       "    .dataframe thead th {\n",
       "        text-align: right;\n",
       "    }\n",
       "</style>\n",
       "<table border=\"1\" class=\"dataframe\">\n",
       "  <thead>\n",
       "    <tr style=\"text-align: right;\">\n",
       "      <th></th>\n",
       "      <th>Pulmonary Embolism_response</th>\n",
       "      <th>Laterality_response</th>\n",
       "      <th>Acuity_response</th>\n",
       "      <th>report</th>\n",
       "      <th>file_name</th>\n",
       "    </tr>\n",
       "    <tr>\n",
       "      <th>index</th>\n",
       "      <th></th>\n",
       "      <th></th>\n",
       "      <th></th>\n",
       "      <th></th>\n",
       "      <th></th>\n",
       "    </tr>\n",
       "  </thead>\n",
       "  <tbody>\n",
       "    <tr>\n",
       "      <th>0</th>\n",
       "      <td>\"Present\"\\n</td>\n",
       "      <td>&lt;json&gt;\\n{\\n  \"Laterality\" : \"Bilateral\"\\n}\\n</td>\n",
       "      <td>&lt;json&gt;\\n{\\n  \"Acuity\" : \"Acute\"\\n}\\n</td>\n",
       "      <td>Clinical Information:\\n72-year-old female with...</td>\n",
       "      <td>../../sample_reports/sample_report_2.txt</td>\n",
       "    </tr>\n",
       "    <tr>\n",
       "      <th>1</th>\n",
       "      <td>Present</td>\n",
       "      <td>&lt;json&gt;\\n{\\n  \"Laterality\" : \"Bilateral\"\\n}\\n</td>\n",
       "      <td>&lt;json&gt;\\n{\\n  \"Acuity\" : \"Not Mentioned\"\\n}\\n</td>\n",
       "      <td>Here is an example radiology report describing...</td>\n",
       "      <td>../../sample_reports/sample_report_3.txt</td>\n",
       "    </tr>\n",
       "    <tr>\n",
       "      <th>2</th>\n",
       "      <td>\"Present\"\\n</td>\n",
       "      <td>&lt;json&gt;\\n{\\n  \"Laterality\" : \"Bilateral\"\\n}\\n</td>\n",
       "      <td>&lt;json&gt;\\n{\\n  \"Acuity\" : \"Not Mentioned\"\\n}\\n</td>\n",
       "      <td>Clinical Information:\\n67-year-old male with s...</td>\n",
       "      <td>../../sample_reports/sample_report_1.txt</td>\n",
       "    </tr>\n",
       "  </tbody>\n",
       "</table>\n",
       "</div>"
      ],
      "text/plain": [
       "      Pulmonary Embolism_response  \\\n",
       "index                               \n",
       "0                     \"Present\"\\n   \n",
       "1                         Present   \n",
       "2                     \"Present\"\\n   \n",
       "\n",
       "                                Laterality_response  \\\n",
       "index                                                 \n",
       "0      <json>\\n{\\n  \"Laterality\" : \"Bilateral\"\\n}\\n   \n",
       "1      <json>\\n{\\n  \"Laterality\" : \"Bilateral\"\\n}\\n   \n",
       "2      <json>\\n{\\n  \"Laterality\" : \"Bilateral\"\\n}\\n   \n",
       "\n",
       "                                    Acuity_response  \\\n",
       "index                                                 \n",
       "0              <json>\\n{\\n  \"Acuity\" : \"Acute\"\\n}\\n   \n",
       "1      <json>\\n{\\n  \"Acuity\" : \"Not Mentioned\"\\n}\\n   \n",
       "2      <json>\\n{\\n  \"Acuity\" : \"Not Mentioned\"\\n}\\n   \n",
       "\n",
       "                                                  report  \\\n",
       "index                                                      \n",
       "0      Clinical Information:\\n72-year-old female with...   \n",
       "1      Here is an example radiology report describing...   \n",
       "2      Clinical Information:\\n67-year-old male with s...   \n",
       "\n",
       "                                      file_name  \n",
       "index                                            \n",
       "0      ../../sample_reports/sample_report_2.txt  \n",
       "1      ../../sample_reports/sample_report_3.txt  \n",
       "2      ../../sample_reports/sample_report_1.txt  "
      ]
     },
     "execution_count": 5,
     "metadata": {},
     "output_type": "execute_result"
    }
   ],
   "source": [
    "import pandas as pd\n",
    "\n",
    "df = pd.read_csv(\"output_tutorial_5.csv\", index_col='index')\n",
    "df"
   ]
  },
  {
   "cell_type": "markdown",
   "metadata": {},
   "source": [
    "As you can see, the model does not always stick to the template and might deviate from that. But, we've got you covered. You can use this simple utility function to sanitize JSON outputs."
   ]
  },
  {
   "cell_type": "code",
   "execution_count": 6,
   "metadata": {},
   "outputs": [
    {
     "data": {
      "text/html": [
       "<div>\n",
       "<style scoped>\n",
       "    .dataframe tbody tr th:only-of-type {\n",
       "        vertical-align: middle;\n",
       "    }\n",
       "\n",
       "    .dataframe tbody tr th {\n",
       "        vertical-align: top;\n",
       "    }\n",
       "\n",
       "    .dataframe thead th {\n",
       "        text-align: right;\n",
       "    }\n",
       "</style>\n",
       "<table border=\"1\" class=\"dataframe\">\n",
       "  <thead>\n",
       "    <tr style=\"text-align: right;\">\n",
       "      <th></th>\n",
       "      <th>Pulmonary Embolism_response</th>\n",
       "      <th>Laterality_response</th>\n",
       "      <th>Acuity_response</th>\n",
       "      <th>report</th>\n",
       "      <th>file_name</th>\n",
       "    </tr>\n",
       "    <tr>\n",
       "      <th>index</th>\n",
       "      <th></th>\n",
       "      <th></th>\n",
       "      <th></th>\n",
       "      <th></th>\n",
       "      <th></th>\n",
       "    </tr>\n",
       "  </thead>\n",
       "  <tbody>\n",
       "    <tr>\n",
       "      <th>0</th>\n",
       "      <td>Present</td>\n",
       "      <td>Bilateral</td>\n",
       "      <td>Acute</td>\n",
       "      <td>Clinical Information:\\n72-year-old female with...</td>\n",
       "      <td>../../sample_reports/sample_report_2.txt</td>\n",
       "    </tr>\n",
       "    <tr>\n",
       "      <th>1</th>\n",
       "      <td>Present</td>\n",
       "      <td>Bilateral</td>\n",
       "      <td>Not Mentioned</td>\n",
       "      <td>Here is an example radiology report describing...</td>\n",
       "      <td>../../sample_reports/sample_report_3.txt</td>\n",
       "    </tr>\n",
       "    <tr>\n",
       "      <th>2</th>\n",
       "      <td>Present</td>\n",
       "      <td>Bilateral</td>\n",
       "      <td>Not Mentioned</td>\n",
       "      <td>Clinical Information:\\n67-year-old male with s...</td>\n",
       "      <td>../../sample_reports/sample_report_1.txt</td>\n",
       "    </tr>\n",
       "  </tbody>\n",
       "</table>\n",
       "</div>"
      ],
      "text/plain": [
       "      Pulmonary Embolism_response Laterality_response Acuity_response  \\\n",
       "index                                                                   \n",
       "0                         Present           Bilateral           Acute   \n",
       "1                         Present           Bilateral   Not Mentioned   \n",
       "2                         Present           Bilateral   Not Mentioned   \n",
       "\n",
       "                                                  report  \\\n",
       "index                                                      \n",
       "0      Clinical Information:\\n72-year-old female with...   \n",
       "1      Here is an example radiology report describing...   \n",
       "2      Clinical Information:\\n67-year-old male with s...   \n",
       "\n",
       "                                      file_name  \n",
       "index                                            \n",
       "0      ../../sample_reports/sample_report_2.txt  \n",
       "1      ../../sample_reports/sample_report_3.txt  \n",
       "2      ../../sample_reports/sample_report_1.txt  "
      ]
     },
     "execution_count": 6,
     "metadata": {},
     "output_type": "execute_result"
    }
   ],
   "source": [
    "sanitized_df = engine.sanitize_json(\"all\")\n",
    "sanitized_df"
   ]
  },
  {
   "cell_type": "markdown",
   "metadata": {},
   "source": [
    "Now, you can see that the outputs are sanitized. If there is no appropriate match found, the response will be flagged with  `**RECHECK**` (look at the second row).\n",
    "\n",
    "**Note**: `engine.sanitize_json` will not modify the model output dataframe and will <u>return a sanitized copy of that</u>."
   ]
  },
  {
   "cell_type": "markdown",
   "metadata": {},
   "source": [
    "Finally, we save the log:"
   ]
  },
  {
   "cell_type": "code",
   "execution_count": 7,
   "metadata": {},
   "outputs": [
    {
     "name": "stdout",
     "output_type": "stream",
     "text": [
      "RadPrompter Version: 1.1.0\n",
      "Model: meta-llama/Meta-Llama-3-8B-Instruct\n",
      "Prompt TOML: /Users/bardiakhosravi/Desktop/GitHub/RadPrompter/tutorials/05_Assistant-Prefill/05_Assistant-Prefill.toml\n",
      "Prompt Version: 0.1\n",
      "Prompt Hash: 306178fe893a26b4d198bc9031761f2e\n",
      "Concurrency Factor: 2\n",
      "Start Time: 2024-05-19 16:45:08\n",
      "End Time: 2024-05-19 16:45:10\n",
      "Duration: 2.0\n",
      "Number of Items: 3\n",
      "Average Processing Time: 0.6666666666666666\n",
      "\n",
      "\n",
      "-------------------- *** - Prompt Content - *** --------------------\n",
      "[METADATA]\n",
      "\n",
      "version = 0.1\n",
      "description = \"A sample prompt for RadPrompter\"\n",
      "\n",
      "[PROMPTS]\n",
      "\n",
      "system_prompt = \"You are a helpful assistant that has 20 years of experience in reading radiology reports and extracting data elements.\"\n",
      "\n",
      "user_prompt_intro = \"\"\"\n",
      "{{intro_prompt}}\n",
      "\"\"\"\n",
      "\n",
      "user_prompt_no_cot = \"\"\"\n",
      "I want you to extract the following data element from the report: \n",
      "{{hint}}\n",
      "\n",
      "Your final answer elements in a valid JSON format and is between <json> and </json> tags:\n",
      "\n",
      "<json>\n",
      "{\n",
      "  \"{{variable_name}}\": \"answer\"\n",
      "}\n",
      "</json>\n",
      "\"\"\"\n",
      "\n",
      "assistant_response_template = \"\"\"\n",
      "<json>\n",
      "{\n",
      "  \"{{variable_name}}\" : \\\"\"\"\"\n",
      "\n",
      "[CONSTRUCTOR]\n",
      "system = \"rdp(system_prompt)\"\n",
      "user = \"rdp(user_prompt_intro + user_prompt_no_cot)\"\n",
      "response_templates = \"rdp(assistant_response_template)\"\n",
      "stop_tags = \"</json>\"\n",
      "\n",
      "[SCHEMAS]\n",
      "\n",
      "[SCHEMAS.PulmonaryEmbolism]\n",
      "variable_name = \"Pulmonary Embolism\"\n",
      "intro_prompt = \"\"\"\n",
      "Carefully review the provided chest CT report (in the <report> tag). Ensure that each data element is accurately captured.\n",
      "\n",
      "Here is the report:\n",
      "<report>\n",
      "{{report}}\n",
      "</report>\n",
      "\n",
      "Please pay attention to the following details:\n",
      "- Your attention to detail is crucial for maintaining the integrity of the medical records. \n",
      "- You should not confabulate information, and if something is not mentioned, you should assume that it is `Absent` unless otherwise stated.\n",
      "- The report may contain additional information that is not relevant to the requested data elements. Please ignore that information.\n",
      "- We are interested at findings at the time of scan, not the previous ones, so only consider the impression and findings sections of the report.\n",
      "- Do not print anything else other than the provided output format.\n",
      "\"\"\"\n",
      "type = \"select\"\n",
      "options = [\"Present\", \"Absent\"]\n",
      "hint = \"\"\"\"Indicate `Present` if the report explicitly mentions the patient has pulmonary embolism in their CT scan. \n",
      "Indicate `Absent` if pulmonary embolism is not seen or if a previously observed pulmonary embolism is mentioned as resolved.\"\"\"\n",
      "show_options_in_hint = true\n",
      "\n",
      "[SCHEMAS.Laterality]\n",
      "variable_name = \"Laterality\"\n",
      "intro_prompt = \"\"\n",
      "type = \"select\"\n",
      "options = [\"Left\", \"Right\", \"Bilateral\", \"Not Mentioned\"]\n",
      "hint = \"\"\"\n",
      "Indicate `Left` if the report explicitly mentions the patient has a left-sided pulmonary embolism in their CT scan. \n",
      "Indicate `Right` if the report explicitly mentions the patient has a right-sided pulmonary embolism in their CT scan. \n",
      "Indicate `Bilateral` if the report explicitly mentions the patient has a bilateral pulmonary embolism in their CT scan or if patient has both left and right sided pulmonary embolism.\n",
      "Indicate `Not Mentioned` if side of pulmonary embolism is not mentioned.\n",
      "\"\"\"\n",
      "show_options_in_hint = true\n",
      "\n",
      "\n",
      "[SCHEMAS.Acuity]\n",
      "variable_name = \"Acuity\"\n",
      "intro_prompt = \"\"\n",
      "type = \"select\"\n",
      "options = [\"Acute\", \"Chronic\", \"Mixed\", \"Not Mentioned\"]\n",
      "hint = \"\"\"\n",
      "Indicate `Acute` if the report explicitly mentions the patient has an acute pulmonary embolism in their CT scan. \n",
      "Indicate `Chronic` if the report explicitly mentions the patient has a chronic pulmonary embolism in their CT scan. \n",
      "Indicate `Mixed` if the report explicitly mentions the patient has a acute on chronic pulmonary embolism in their CT scan. \n",
      "Indicate `Not Mentioned` if acuity of pulmonary embolism is not mentioned.\n",
      "\"\"\"\n",
      "show_options_in_hint = true\n",
      "\n"
     ]
    }
   ],
   "source": [
    "engine.save_log(\"log_tutorial_5.log\")\n",
    "\n",
    "with open(\"log_tutorial_5.log\", \"r\") as f:\n",
    "    print(f.read())"
   ]
  },
  {
   "cell_type": "markdown",
   "metadata": {},
   "source": [
    "Assistant prefills are a powerful feature that allow us to guide the model's output into a specific format. By providing a template in the `assistant_templates` field, we can ensure that the model's responses are structured in a way that's easy to parse and process downstream.\n",
    "\n",
    "In this tutorial, we used assistant prefills to have the model generate its outputs as JSON objects. This can greatly simplify the task of extracting the relevant information from the model's responses."
   ]
  }
 ],
 "metadata": {
  "kernelspec": {
   "display_name": "Python 3",
   "language": "python",
   "name": "python3"
  },
  "language_info": {
   "codemirror_mode": {
    "name": "ipython",
    "version": 3
   },
   "file_extension": ".py",
   "mimetype": "text/x-python",
   "name": "python",
   "nbconvert_exporter": "python",
   "pygments_lexer": "ipython3",
   "version": "3.11.9"
  }
 },
 "nbformat": 4,
 "nbformat_minor": 4
}
