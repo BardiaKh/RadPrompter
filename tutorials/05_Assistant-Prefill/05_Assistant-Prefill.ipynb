{
 "cells": [
  {
   "cell_type": "markdown",
   "metadata": {},
   "source": [
    "# Tutorial 5: Assistant Prefill in RadPrompter\n",
    "\n",
    "In this tutorial, we'll explore how to use assistant prefills in RadPrompter. Assistant prefills are pre-filled responses that guide the model to generate outputs in a specific format.\n",
    "\n",
    "**Note:** Assistant prefills are not currently supported with the `OpenAIClient`. However, they are supported by other clients such as `vLLMClient` and `OllamaClient`."
   ]
  },
  {
   "cell_type": "markdown",
   "metadata": {},
   "source": [
    "## Prompt\n",
    "\n",
    "As always, we start by importing the `Prompt` class and creating a prompt object from a TOML file:"
   ]
  },
  {
   "cell_type": "code",
   "execution_count": 1,
   "metadata": {},
   "outputs": [
    {
     "data": {
      "text/html": [
       "<div style='padding: 0; border-radius: 5px; font-family: Arial; line-height: 1.2rem; border: 1px solid currentColor'><div style='display: flex; align-items: top; padding: 0; border-right-width: 1px'><h4 style='margin: 0; padding: 8px; flex: 0 0 100px; '>System:</h4><p style='margin: 0; padding: 8px; border-left: 1px solid currentColor;'>You are a helpful assistant that has 20 years of experience in reading radiology reports and extracting data elements.</p></div><div style='display: flex; align-items: top; padding: 0;'><h4 style='margin: 0; padding: 8px; flex: 0 0 100px;'>User:</h4><p style='margin: 0; padding: 8px; flex-grow: 1; border-left: 1px solid currentColor;border-top: 1px solid currentColor;'><span style='background-color: rgb(255, 224, 178, 0.3);'>{{intro_prompt}}</span><br>I want you to extract the following data element from the report: <br><span style='background-color: rgb(255, 224, 178, 0.3);'>{{hint}}</span><br><br>Your final answer elements in a valid JSON format and is between &lt;json&gt; and &lt;/json&gt; tags:<br><br>&lt;json&gt;<br>{<br>  &quot;<span style='background-color: rgb(255, 224, 178, 0.3);'>{{variable_name}}</span>&quot;: &quot;answer&quot;<br>}<br>&lt;/json&gt;<br></p></div><div style='display: flex; align-items: top; padding: 0;'><h4 style='margin: 0; padding: 8px; flex: 0 0 100px;'>Assistant:</h4><p style='margin: 0; padding: 8px; flex-grow: 1; border-left: 1px solid currentColor;border-top: 1px solid currentColor;'>&lt;json&gt;<br>{<br>  &quot;<span style='background-color: rgb(255, 224, 178, 0.3);'>{{variable_name}}</span>&quot; : &quot;<span style='background-color: rgb(178, 219, 255, 0.3);'>[... response ...]</span><br>}<br>&lt;/json&gt;</p></div></div>"
      ],
      "text/plain": [
       "<IPython.core.display.HTML object>"
      ]
     },
     "metadata": {},
     "output_type": "display_data"
    },
    {
     "data": {
      "text/plain": []
     },
     "execution_count": 1,
     "metadata": {},
     "output_type": "execute_result"
    }
   ],
   "source": [
    "from radprompter import Prompt\n",
    "\n",
    "prompt = Prompt('05_Assistant-Prefill.toml')\n",
    "prompt"
   ]
  },
  {
   "cell_type": "markdown",
   "metadata": {},
   "source": [
    "The key feature of this TOML file is the `assistant_response_template`:\n",
    "\n",
    "```toml\n",
    "assistant_response_template = \"\"\"\n",
    "<json>\n",
    "{\n",
    "  \"{{variable_name}}\" : \\\"\"\n",
    "```\n",
    "\n",
    "This prefill requires the model to generate the output in JSON format. We also included the `{{variable_name}}` to replace this placeholder with each schema's `variable_name` attribute.\n",
    "\n",
    "We also add a `stop_tags` field in the `[CONSTRUCTOR]` section:\n",
    "\n",
    "```toml\n",
    "[CONSTRUCTOR]\n",
    "system = \"rdp(system_prompt)\"\n",
    "user = \"rdp(user_prompt_intro + user_prompt_cot)\"\n",
    "response_templates = \"rdp(assistant_response_template)\"\n",
    "stop_tags = \"</json>\"\n",
    "```\n",
    "\n",
    "This tells the model to stop generating when it reaches the `</json>` tag, ensuring that it doesn't generate any extra text after the JSON object.\n",
    "\n",
    "Let's look at the first schema:\n"
   ]
  },
  {
   "cell_type": "code",
   "execution_count": 2,
   "metadata": {},
   "outputs": [
    {
     "data": {
      "text/html": [
       "<div style='padding: 0; border-radius: 5px; font-family: Arial; line-height: 1.2rem; border: 1px solid currentColor'><div style='display: flex; align-items: top; padding: 0; border-right-width: 1px'><h4 style='margin: 0; padding: 8px; flex: 0 0 100px; '>System:</h4><p style='margin: 0; padding: 8px; border-left: 1px solid currentColor;'>You are a helpful assistant that has 20 years of experience in reading radiology reports and extracting data elements.</p></div><div style='display: flex; align-items: top; padding: 0;'><h4 style='margin: 0; padding: 8px; flex: 0 0 100px;'>User:</h4><p style='margin: 0; padding: 8px; flex-grow: 1; border-left: 1px solid currentColor;border-top: 1px solid currentColor;'><br>I want you to extract the following data element from the report: <br>&#x27;Laterality&#x27;<br>Here are your options and you can explicitly use one of these:<br>  - `Left`<br>  - `Right`<br>  - `Bilateral`<br>  - `Not Mentioned`<br><br>Hint: Indicate `Left` if the report explicitly mentions the patient has a left-sided pulmonary embolism in their CT scan. <br>Indicate `Right` if the report explicitly mentions the patient has a right-sided pulmonary embolism in their CT scan. <br>Indicate `Bilateral` if the report explicitly mentions the patient has a bilateral pulmonary embolism in their CT scan or if patient has both left and right sided pulmonary embolism.<br>Indicate `Not Mentioned` if side of pulmonary embolism is not mentioned.<br><br><br>Your final answer elements in a valid JSON format and is between &lt;json&gt; and &lt;/json&gt; tags:<br><br>&lt;json&gt;<br>{<br>  &quot;Laterality&quot;: &quot;answer&quot;<br>}<br>&lt;/json&gt;<br></p></div><div style='display: flex; align-items: top; padding: 0;'><h4 style='margin: 0; padding: 8px; flex: 0 0 100px;'>Assistant:</h4><p style='margin: 0; padding: 8px; flex-grow: 1; border-left: 1px solid currentColor;border-top: 1px solid currentColor;'>&lt;json&gt;<br>{<br>  &quot;Laterality&quot; : &quot;<span style='background-color: rgb(178, 219, 255, 0.3);'>[... response ...]</span><br>}<br>&lt;/json&gt;</p></div></div>"
      ],
      "text/plain": [
       "<IPython.core.display.HTML object>"
      ]
     },
     "metadata": {},
     "output_type": "display_data"
    },
    {
     "data": {
      "text/plain": []
     },
     "execution_count": 2,
     "metadata": {},
     "output_type": "execute_result"
    }
   ],
   "source": [
    "prompt.schemas[1]"
   ]
  },
  {
   "cell_type": "markdown",
   "metadata": {},
   "source": [
    "You can see the prefilled assistant response, preceding model's `[... response ...]`."
   ]
  },
  {
   "cell_type": "markdown",
   "metadata": {},
   "source": [
    "## Client and Engine\n",
    "\n",
    "We'll use the `vLLMClient` and `RadPrompter` engine:"
   ]
  },
  {
   "cell_type": "code",
   "execution_count": 3,
   "metadata": {},
   "outputs": [],
   "source": [
    "from radprompter import RadPrompter, vLLMClient\n",
    "\n",
    "client = vLLMClient(\n",
    "    model = \"meta-llama/Meta-Llama-3-8B-Instruct\",\n",
    "    base_url = \"http://localhost:9999/v1\",\n",
    "    temperature = 0.0,\n",
    "    seed=42\n",
    ")\n",
    "\n",
    "engine = RadPrompter(\n",
    "    client=client,\n",
    "    prompt=prompt, \n",
    "    output_file=\"output_tutorial_5.csv\",\n",
    "    concurrency=1,\n",
    "    hide_blocks=False,\n",
    ")"
   ]
  },
  {
   "cell_type": "markdown",
   "metadata": {},
   "source": [
    "And we run it on our sample reports:"
   ]
  },
  {
   "cell_type": "code",
   "execution_count": 4,
   "metadata": {},
   "outputs": [
    {
     "name": "stderr",
     "output_type": "stream",
     "text": [
      "Processing items:  33%|███▎      | 1/3 [00:01<00:02,  1.33s/it]"
     ]
    },
    {
     "name": "stdout",
     "output_type": "stream",
     "text": [
      "[{'role': 'system', 'content': 'You are a helpful assistant that has 20 years of experience in reading radiology reports and extracting data elements.'}, {'role': 'user', 'content': 'Carefully review the provided chest CT report (in the <report> tag). Ensure that each data element is accurately captured.\\n\\nHere is the report:\\n<report>\\nClinical Information:\\n72-year-old female with sudden onset shortness of breath and hypoxia. Evaluate for pulmonary embolism.\\nTechnique:\\nCT pulmonary angiography with IV contrast was performed.\\nFindings:\\nThere is a large saddle embolus extending from the main pulmonary artery into the right and left main pulmonary arteries. Multiple filling defects are also seen within the segmental and subsegmental branches bilaterally, indicating additional pulmonary emboli.\\nThe right ventricle appears dilated at 4.6 cm, greater than the left ventricle. There is flattening of the interventricular septum, suggesting right heart strain.\\nMosaic perfusion is present within the lungs bilaterally, likely representing pulmonary infarcts.\\nSmall bilateral pleural effusions are noted.\\nImpression:\\n\\nSaddle pulmonary embolism involving the main pulmonary artery, right and left main branches, and multiple segmental/subsegmental branches.\\nFindings of right heart strain with right ventricular dilation and interventricular septal flattening.\\nBilateral pleural effusions, likely due to pulmonary infarcts.\\n\\nRecommendation:\\nEmergent anticoagulation therapy is recommended given the large burden of pulmonary arterial clot and evidence of right heart strain. Surgical or catheter-based embolectomy may need to be considered. Echocardiography can further evaluate right heart function and pulmonary pressures.\\n</report>\\n\\nPlease pay attention to the following details:\\n- Your attention to detail is crucial for maintaining the integrity of the medical records. \\n- You should not confabulate information, and if something is not mentioned, you should assume that it is `Absent` unless otherwise stated.\\n- The report may contain additional information that is not relevant to the requested data elements. Please ignore that information.\\n- We are interested at findings at the time of scan, not the previous ones, so only consider the impression and findings sections of the report.\\n- Do not print anything else other than the provided output format.\\n\\nI want you to extract the following data element from the report: \\n\\'Pulmonary Embolism\\'\\nHere are your options and you can explicitly use one of these:\\n  - `Present`\\n  - `Absent`\\n\\nHint: \"Indicate `Present` if the report explicitly mentions the patient has pulmonary embolism in their CT scan. \\nIndicate `Absent` if pulmonary embolism is not seen or if a previously observed pulmonary embolism is mentioned as resolved.\\n\\nYour final answer elements in a valid JSON format and is between <json> and </json> tags:\\n\\n<json>\\n{\\n  \"Pulmonary Embolism\": \"answer\"\\n}\\n</json>\\n'}, {'role': 'assistant', 'content': '<json>\\n{\\n  \"Pulmonary Embolism\" : \"\"Present\"\\n</json>\\n}\\n</json>'}, {'role': 'user', 'content': '\\nI want you to extract the following data element from the report: \\n\\'Laterality\\'\\nHere are your options and you can explicitly use one of these:\\n  - `Left`\\n  - `Right`\\n  - `Bilateral`\\n  - `Not Mentioned`\\n\\nHint: Indicate `Left` if the report explicitly mentions the patient has a left-sided pulmonary embolism in their CT scan. \\nIndicate `Right` if the report explicitly mentions the patient has a right-sided pulmonary embolism in their CT scan. \\nIndicate `Bilateral` if the report explicitly mentions the patient has a bilateral pulmonary embolism in their CT scan or if patient has both left and right sided pulmonary embolism.\\nIndicate `Not Mentioned` if side of pulmonary embolism is not mentioned.\\n\\n\\nYour final answer elements in a valid JSON format and is between <json> and </json> tags:\\n\\n<json>\\n{\\n  \"Laterality\": \"answer\"\\n}\\n</json>\\n'}, {'role': 'assistant', 'content': '<json>\\n{\\n  \"Laterality\" : \"<json>\\n{\\n  \"Laterality\" : \"Bilateral\"\\n}\\n</json>'}, {'role': 'user', 'content': '\\nI want you to extract the following data element from the report: \\n\\'Acuity\\'\\nHere are your options and you can explicitly use one of these:\\n  - `Acute`\\n  - `Chronic`\\n  - `Mixed`\\n  - `Not Mentioned`\\n\\nHint: Indicate `Acute` if the report explicitly mentions the patient has an acute pulmonary embolism in their CT scan. \\nIndicate `Chronic` if the report explicitly mentions the patient has a chronic pulmonary embolism in their CT scan. \\nIndicate `Mixed` if the report explicitly mentions the patient has a acute on chronic pulmonary embolism in their CT scan. \\nIndicate `Not Mentioned` if acuity of pulmonary embolism is not mentioned.\\n\\n\\nYour final answer elements in a valid JSON format and is between <json> and </json> tags:\\n\\n<json>\\n{\\n  \"Acuity\": \"answer\"\\n}\\n</json>\\n'}, {'role': 'assistant', 'content': '<json>\\n{\\n  \"Acuity\" : \"<json>\\n{\\n  \"Acuity\" : \"Acute\"\\n}\\n</json>'}]\n"
     ]
    },
    {
     "name": "stderr",
     "output_type": "stream",
     "text": [
      "Processing items:  67%|██████▋   | 2/3 [00:02<00:01,  1.23s/it]"
     ]
    },
    {
     "name": "stdout",
     "output_type": "stream",
     "text": [
      "[{'role': 'system', 'content': 'You are a helpful assistant that has 20 years of experience in reading radiology reports and extracting data elements.'}, {'role': 'user', 'content': 'Carefully review the provided chest CT report (in the <report> tag). Ensure that each data element is accurately captured.\\n\\nHere is the report:\\n<report>\\nHere is an example radiology report describing subsegmental pulmonary emboli:\\n\\nClinical Information:\\n65-year-old male with history of recent surgery presenting with pleuritic chest pain. Rule out pulmonary embolism.\\n\\nTechnique:\\nCT pulmonary angiogram with IV contrast was performed.\\n\\nFindings: \\nThe main pulmonary arteries are patent and normal in caliber. No evidence of central pulmonary embolism.\\n\\nThere are few subsegmental pulmonary arterial filling defects identified within the right lower lobe and left upper lobe, compatible with subsegmental pulmonary emboli.\\n\\nNo large pulmonary infarcts are seen. Minimal bibasilar atelectasis is present.\\n\\nThe heart size and pulmonary vascularity are within normal limits. No pleural effusions.\\n\\nImpression:\\n1. Subsegmental pulmonary emboli within the right lower lobe and left upper lobe.\\n2. No central pulmonary emboli or evidence of right heart strain.\\n3. Minimal bibasilar atelectasis.\\n\\nRecommendation:\\nClinical correlation is recommended regarding need for anticoagulation given the subsegmental nature of the emboli. Follow-up imaging can be considered if symptoms persist or worsen to evaluate for interval development of more proximal clot propagation.\\n\\nPatient should be clinically risk stratified for bleeding risk versus benefit of anticoagulation for subsegmental pulmonary emboli based on symptoms and risk factors.\\n</report>\\n\\nPlease pay attention to the following details:\\n- Your attention to detail is crucial for maintaining the integrity of the medical records. \\n- You should not confabulate information, and if something is not mentioned, you should assume that it is `Absent` unless otherwise stated.\\n- The report may contain additional information that is not relevant to the requested data elements. Please ignore that information.\\n- We are interested at findings at the time of scan, not the previous ones, so only consider the impression and findings sections of the report.\\n- Do not print anything else other than the provided output format.\\n\\nI want you to extract the following data element from the report: \\n\\'Pulmonary Embolism\\'\\nHere are your options and you can explicitly use one of these:\\n  - `Present`\\n  - `Absent`\\n\\nHint: \"Indicate `Present` if the report explicitly mentions the patient has pulmonary embolism in their CT scan. \\nIndicate `Absent` if pulmonary embolism is not seen or if a previously observed pulmonary embolism is mentioned as resolved.\\n\\nYour final answer elements in a valid JSON format and is between <json> and </json> tags:\\n\\n<json>\\n{\\n  \"Pulmonary Embolism\": \"answer\"\\n}\\n</json>\\n'}, {'role': 'assistant', 'content': '<json>\\n{\\n  \"Pulmonary Embolism\" : \"Present\\n}\\n</json>'}, {'role': 'user', 'content': '\\nI want you to extract the following data element from the report: \\n\\'Laterality\\'\\nHere are your options and you can explicitly use one of these:\\n  - `Left`\\n  - `Right`\\n  - `Bilateral`\\n  - `Not Mentioned`\\n\\nHint: Indicate `Left` if the report explicitly mentions the patient has a left-sided pulmonary embolism in their CT scan. \\nIndicate `Right` if the report explicitly mentions the patient has a right-sided pulmonary embolism in their CT scan. \\nIndicate `Bilateral` if the report explicitly mentions the patient has a bilateral pulmonary embolism in their CT scan or if patient has both left and right sided pulmonary embolism.\\nIndicate `Not Mentioned` if side of pulmonary embolism is not mentioned.\\n\\n\\nYour final answer elements in a valid JSON format and is between <json> and </json> tags:\\n\\n<json>\\n{\\n  \"Laterality\": \"answer\"\\n}\\n</json>\\n'}, {'role': 'assistant', 'content': '<json>\\n{\\n  \"Laterality\" : \"<json>\\n{\\n  \"Laterality\" : \"Bilateral\"\\n}\\n</json>'}, {'role': 'user', 'content': '\\nI want you to extract the following data element from the report: \\n\\'Acuity\\'\\nHere are your options and you can explicitly use one of these:\\n  - `Acute`\\n  - `Chronic`\\n  - `Mixed`\\n  - `Not Mentioned`\\n\\nHint: Indicate `Acute` if the report explicitly mentions the patient has an acute pulmonary embolism in their CT scan. \\nIndicate `Chronic` if the report explicitly mentions the patient has a chronic pulmonary embolism in their CT scan. \\nIndicate `Mixed` if the report explicitly mentions the patient has a acute on chronic pulmonary embolism in their CT scan. \\nIndicate `Not Mentioned` if acuity of pulmonary embolism is not mentioned.\\n\\n\\nYour final answer elements in a valid JSON format and is between <json> and </json> tags:\\n\\n<json>\\n{\\n  \"Acuity\": \"answer\"\\n}\\n</json>\\n'}, {'role': 'assistant', 'content': '<json>\\n{\\n  \"Acuity\" : \"<json>\\n{\\n  \"Acuity\" : \"Not Mentioned\"\\n}\\n</json>'}]\n"
     ]
    },
    {
     "name": "stderr",
     "output_type": "stream",
     "text": [
      "Processing items: 100%|██████████| 3/3 [00:03<00:00,  1.25s/it]"
     ]
    },
    {
     "name": "stdout",
     "output_type": "stream",
     "text": [
      "[{'role': 'system', 'content': 'You are a helpful assistant that has 20 years of experience in reading radiology reports and extracting data elements.'}, {'role': 'user', 'content': 'Carefully review the provided chest CT report (in the <report> tag). Ensure that each data element is accurately captured.\\n\\nHere is the report:\\n<report>\\nClinical Information:\\n67-year-old male with shortness of breath and pleuritic chest pain. Rule out pulmonary embolism.\\n\\nTechnique:\\nCT pulmonary angiography with IV contrast was performed.\\n\\nFindings:\\nThere are filling defects within the right and left main pulmonary arteries extending into the lobar branches, compatible with bilateral pulmonary emboli. No evidence of right heart strain.\\n\\nGround glass opacities are present within the peripheral lungs bilaterally, suggesting a component of hemorrhage.\\n\\nThe main pulmonary arteries are dilated, with a diameter of 3.4 cm on the right and 3.1 cm on the left (upper limits of normal).\\n\\nNo pleural effusion is identified.\\n\\nImpression:\\n1. Bilateral pulmonary emboli involving the right and left main pulmonary arteries and lobar branches.\\n2. Findings suggestive of pulmonary hemorrhage.\\n3. Pulmonary artery dilation suggesting chronic pulmonary hypertension.\\n\\nRecommendation:\\nClinical correlation is recommended. Anticoagulation therapy should be initiated if not already started. Consider echocardiography to evaluate for right heart strain.\\n</report>\\n\\nPlease pay attention to the following details:\\n- Your attention to detail is crucial for maintaining the integrity of the medical records. \\n- You should not confabulate information, and if something is not mentioned, you should assume that it is `Absent` unless otherwise stated.\\n- The report may contain additional information that is not relevant to the requested data elements. Please ignore that information.\\n- We are interested at findings at the time of scan, not the previous ones, so only consider the impression and findings sections of the report.\\n- Do not print anything else other than the provided output format.\\n\\nI want you to extract the following data element from the report: \\n\\'Pulmonary Embolism\\'\\nHere are your options and you can explicitly use one of these:\\n  - `Present`\\n  - `Absent`\\n\\nHint: \"Indicate `Present` if the report explicitly mentions the patient has pulmonary embolism in their CT scan. \\nIndicate `Absent` if pulmonary embolism is not seen or if a previously observed pulmonary embolism is mentioned as resolved.\\n\\nYour final answer elements in a valid JSON format and is between <json> and </json> tags:\\n\\n<json>\\n{\\n  \"Pulmonary Embolism\": \"answer\"\\n}\\n</json>\\n'}, {'role': 'assistant', 'content': '<json>\\n{\\n  \"Pulmonary Embolism\" : \"\"Present\"\\n</json>\\n}\\n</json>'}, {'role': 'user', 'content': '\\nI want you to extract the following data element from the report: \\n\\'Laterality\\'\\nHere are your options and you can explicitly use one of these:\\n  - `Left`\\n  - `Right`\\n  - `Bilateral`\\n  - `Not Mentioned`\\n\\nHint: Indicate `Left` if the report explicitly mentions the patient has a left-sided pulmonary embolism in their CT scan. \\nIndicate `Right` if the report explicitly mentions the patient has a right-sided pulmonary embolism in their CT scan. \\nIndicate `Bilateral` if the report explicitly mentions the patient has a bilateral pulmonary embolism in their CT scan or if patient has both left and right sided pulmonary embolism.\\nIndicate `Not Mentioned` if side of pulmonary embolism is not mentioned.\\n\\n\\nYour final answer elements in a valid JSON format and is between <json> and </json> tags:\\n\\n<json>\\n{\\n  \"Laterality\": \"answer\"\\n}\\n</json>\\n'}, {'role': 'assistant', 'content': '<json>\\n{\\n  \"Laterality\" : \"<json>\\n{\\n  \"Laterality\" : \"Bilateral\"\\n}\\n</json>'}, {'role': 'user', 'content': '\\nI want you to extract the following data element from the report: \\n\\'Acuity\\'\\nHere are your options and you can explicitly use one of these:\\n  - `Acute`\\n  - `Chronic`\\n  - `Mixed`\\n  - `Not Mentioned`\\n\\nHint: Indicate `Acute` if the report explicitly mentions the patient has an acute pulmonary embolism in their CT scan. \\nIndicate `Chronic` if the report explicitly mentions the patient has a chronic pulmonary embolism in their CT scan. \\nIndicate `Mixed` if the report explicitly mentions the patient has a acute on chronic pulmonary embolism in their CT scan. \\nIndicate `Not Mentioned` if acuity of pulmonary embolism is not mentioned.\\n\\n\\nYour final answer elements in a valid JSON format and is between <json> and </json> tags:\\n\\n<json>\\n{\\n  \"Acuity\": \"answer\"\\n}\\n</json>\\n'}, {'role': 'assistant', 'content': '<json>\\n{\\n  \"Acuity\" : \"<json>\\n{\\n  \"Acuity\" : \"Not Mentioned\"\\n}\\n</json>'}]\n"
     ]
    },
    {
     "name": "stderr",
     "output_type": "stream",
     "text": [
      "\n"
     ]
    }
   ],
   "source": [
    "import glob\n",
    "\n",
    "report_files = glob.glob(\"../../sample_reports/*.txt\")\n",
    "\n",
    "reports = []\n",
    "for file in report_files:\n",
    "    with open(file, \"r\") as f:\n",
    "        reports.append({\"report\": f.read(), \"file_name\": file})\n",
    "\n",
    "engine(reports)"
   ]
  },
  {
   "cell_type": "markdown",
   "metadata": {},
   "source": [
    "The engine will process each report using **ALL** the schemas in the prompt and save the results to `output_tutorial_5.csv`."
   ]
  },
  {
   "cell_type": "code",
   "execution_count": 5,
   "metadata": {},
   "outputs": [
    {
     "data": {
      "text/html": [
       "<div>\n",
       "<style scoped>\n",
       "    .dataframe tbody tr th:only-of-type {\n",
       "        vertical-align: middle;\n",
       "    }\n",
       "\n",
       "    .dataframe tbody tr th {\n",
       "        vertical-align: top;\n",
       "    }\n",
       "\n",
       "    .dataframe thead th {\n",
       "        text-align: right;\n",
       "    }\n",
       "</style>\n",
       "<table border=\"1\" class=\"dataframe\">\n",
       "  <thead>\n",
       "    <tr style=\"text-align: right;\">\n",
       "      <th></th>\n",
       "      <th>Pulmonary Embolism_response</th>\n",
       "      <th>Laterality_response</th>\n",
       "      <th>Acuity_response</th>\n",
       "      <th>report</th>\n",
       "      <th>file_name</th>\n",
       "    </tr>\n",
       "    <tr>\n",
       "      <th>index</th>\n",
       "      <th></th>\n",
       "      <th></th>\n",
       "      <th></th>\n",
       "      <th></th>\n",
       "      <th></th>\n",
       "    </tr>\n",
       "  </thead>\n",
       "  <tbody>\n",
       "    <tr>\n",
       "      <th>0</th>\n",
       "      <td>\"Present\"\\n&lt;/json&gt;</td>\n",
       "      <td>&lt;json&gt;\\n{\\n  \"Laterality\" : \"Bilateral\"</td>\n",
       "      <td>&lt;json&gt;\\n{\\n  \"Acuity\" : \"Acute\"</td>\n",
       "      <td>Clinical Information:\\n72-year-old female with...</td>\n",
       "      <td>../../sample_reports/sample_report_2.txt</td>\n",
       "    </tr>\n",
       "    <tr>\n",
       "      <th>1</th>\n",
       "      <td>Present</td>\n",
       "      <td>&lt;json&gt;\\n{\\n  \"Laterality\" : \"Bilateral\"</td>\n",
       "      <td>&lt;json&gt;\\n{\\n  \"Acuity\" : \"Not Mentioned\"</td>\n",
       "      <td>Here is an example radiology report describing...</td>\n",
       "      <td>../../sample_reports/sample_report_3.txt</td>\n",
       "    </tr>\n",
       "    <tr>\n",
       "      <th>2</th>\n",
       "      <td>\"Present\"\\n&lt;/json&gt;</td>\n",
       "      <td>&lt;json&gt;\\n{\\n  \"Laterality\" : \"Bilateral\"</td>\n",
       "      <td>&lt;json&gt;\\n{\\n  \"Acuity\" : \"Not Mentioned\"</td>\n",
       "      <td>Clinical Information:\\n67-year-old male with s...</td>\n",
       "      <td>../../sample_reports/sample_report_1.txt</td>\n",
       "    </tr>\n",
       "  </tbody>\n",
       "</table>\n",
       "</div>"
      ],
      "text/plain": [
       "      Pulmonary Embolism_response                      Laterality_response  \\\n",
       "index                                                                        \n",
       "0              \"Present\"\\n</json>  <json>\\n{\\n  \"Laterality\" : \"Bilateral\"   \n",
       "1                         Present  <json>\\n{\\n  \"Laterality\" : \"Bilateral\"   \n",
       "2              \"Present\"\\n</json>  <json>\\n{\\n  \"Laterality\" : \"Bilateral\"   \n",
       "\n",
       "                               Acuity_response  \\\n",
       "index                                            \n",
       "0              <json>\\n{\\n  \"Acuity\" : \"Acute\"   \n",
       "1      <json>\\n{\\n  \"Acuity\" : \"Not Mentioned\"   \n",
       "2      <json>\\n{\\n  \"Acuity\" : \"Not Mentioned\"   \n",
       "\n",
       "                                                  report  \\\n",
       "index                                                      \n",
       "0      Clinical Information:\\n72-year-old female with...   \n",
       "1      Here is an example radiology report describing...   \n",
       "2      Clinical Information:\\n67-year-old male with s...   \n",
       "\n",
       "                                      file_name  \n",
       "index                                            \n",
       "0      ../../sample_reports/sample_report_2.txt  \n",
       "1      ../../sample_reports/sample_report_3.txt  \n",
       "2      ../../sample_reports/sample_report_1.txt  "
      ]
     },
     "execution_count": 5,
     "metadata": {},
     "output_type": "execute_result"
    }
   ],
   "source": [
    "import pandas as pd\n",
    "\n",
    "df = pd.read_csv(\"output_tutorial_5.csv\", index_col='index')\n",
    "df"
   ]
  },
  {
   "cell_type": "markdown",
   "metadata": {},
   "source": [
    "As you can see, the model does not always stick to the template and might deviate from that. But, we've got you covered. You can use this simple utility function to sanitize JSON outputs (given that they use the `\"{{variable_name}}\" : \"[... response ...]` convention)."
   ]
  },
  {
   "cell_type": "code",
   "execution_count": null,
   "metadata": {},
   "outputs": [],
   "source": []
  },
  {
   "cell_type": "markdown",
   "metadata": {},
   "source": [
    "Finally, we save the log:"
   ]
  },
  {
   "cell_type": "code",
   "execution_count": 6,
   "metadata": {},
   "outputs": [
    {
     "name": "stdout",
     "output_type": "stream",
     "text": [
      "RadPrompter Version: 1.0.8\n",
      "Model: meta-llama/Meta-Llama-3-8B-Instruct\n",
      "Prompt TOML: /Users/bardiakhosravi/Desktop/GitHub/RadPrompter/tutorials/05_Assistant-Prefill/05_Assistant-Prefill.toml\n",
      "Prompt Version: 0.1\n",
      "Prompt Hash: d52dbb3b8e14e2ea1380cc05818bfe05\n",
      "Concurrency Factor: 1\n",
      "Start Time: 2024-05-19 16:19:13\n",
      "End Time: 2024-05-19 16:19:16\n",
      "Duration: 3.0\n",
      "Number of Items: 3\n",
      "Average Processing Time: 1.0\n",
      "\n",
      "\n",
      "-------------------- *** - Prompt Content - *** --------------------\n",
      "[METADATA]\n",
      "\n",
      "version = 0.1\n",
      "description = \"A sample prompt for RadPrompter\"\n",
      "\n",
      "[PROMPTS]\n",
      "\n",
      "system_prompt = \"You are a helpful assistant that has 20 years of experience in reading radiology reports and extracting data elements.\"\n",
      "\n",
      "user_prompt_intro = \"\"\"\n",
      "{{intro_prompt}}\n",
      "\"\"\"\n",
      "\n",
      "user_prompt_no_cot = \"\"\"\n",
      "I want you to extract the following data element from the report: \n",
      "{{hint}}\n",
      "\n",
      "Your final answer elements in a valid JSON format and is between <json> and </json> tags:\n",
      "\n",
      "<json>\n",
      "{\n",
      "  \"{{variable_name}}\": \"answer\"\n",
      "}\n",
      "</json>\n",
      "\"\"\"\n",
      "\n",
      "assistant_response_template = \"\"\"\n",
      "<json>\n",
      "{\n",
      "  \"{{variable_name}}\" : \\\"\"\"\"\n",
      "\n",
      "[CONSTRUCTOR]\n",
      "system = \"rdp(system_prompt)\"\n",
      "user = \"rdp(user_prompt_intro + user_prompt_no_cot)\"\n",
      "response_templates = \"rdp(assistant_response_template)\"\n",
      "stop_tags = \"\\n}\\n</json>\"\n",
      "\n",
      "[SCHEMAS]\n",
      "\n",
      "[SCHEMAS.PulmonaryEmbolism]\n",
      "variable_name = \"Pulmonary Embolism\"\n",
      "intro_prompt = \"\"\"\n",
      "Carefully review the provided chest CT report (in the <report> tag). Ensure that each data element is accurately captured.\n",
      "\n",
      "Here is the report:\n",
      "<report>\n",
      "{{report}}\n",
      "</report>\n",
      "\n",
      "Please pay attention to the following details:\n",
      "- Your attention to detail is crucial for maintaining the integrity of the medical records. \n",
      "- You should not confabulate information, and if something is not mentioned, you should assume that it is `Absent` unless otherwise stated.\n",
      "- The report may contain additional information that is not relevant to the requested data elements. Please ignore that information.\n",
      "- We are interested at findings at the time of scan, not the previous ones, so only consider the impression and findings sections of the report.\n",
      "- Do not print anything else other than the provided output format.\n",
      "\"\"\"\n",
      "type = \"select\"\n",
      "options = [\"Present\", \"Absent\"]\n",
      "hint = \"\"\"\"Indicate `Present` if the report explicitly mentions the patient has pulmonary embolism in their CT scan. \n",
      "Indicate `Absent` if pulmonary embolism is not seen or if a previously observed pulmonary embolism is mentioned as resolved.\"\"\"\n",
      "show_options_in_hint = true\n",
      "\n",
      "[SCHEMAS.Laterality]\n",
      "variable_name = \"Laterality\"\n",
      "intro_prompt = \"\"\n",
      "type = \"select\"\n",
      "options = [\"Left\", \"Right\", \"Bilateral\", \"Not Mentioned\"]\n",
      "hint = \"\"\"\n",
      "Indicate `Left` if the report explicitly mentions the patient has a left-sided pulmonary embolism in their CT scan. \n",
      "Indicate `Right` if the report explicitly mentions the patient has a right-sided pulmonary embolism in their CT scan. \n",
      "Indicate `Bilateral` if the report explicitly mentions the patient has a bilateral pulmonary embolism in their CT scan or if patient has both left and right sided pulmonary embolism.\n",
      "Indicate `Not Mentioned` if side of pulmonary embolism is not mentioned.\n",
      "\"\"\"\n",
      "show_options_in_hint = true\n",
      "\n",
      "\n",
      "[SCHEMAS.Acuity]\n",
      "variable_name = \"Acuity\"\n",
      "intro_prompt = \"\"\n",
      "type = \"select\"\n",
      "options = [\"Acute\", \"Chronic\", \"Mixed\", \"Not Mentioned\"]\n",
      "hint = \"\"\"\n",
      "Indicate `Acute` if the report explicitly mentions the patient has an acute pulmonary embolism in their CT scan. \n",
      "Indicate `Chronic` if the report explicitly mentions the patient has a chronic pulmonary embolism in their CT scan. \n",
      "Indicate `Mixed` if the report explicitly mentions the patient has a acute on chronic pulmonary embolism in their CT scan. \n",
      "Indicate `Not Mentioned` if acuity of pulmonary embolism is not mentioned.\n",
      "\"\"\"\n",
      "show_options_in_hint = true\n",
      "\n"
     ]
    }
   ],
   "source": [
    "engine.save_log(\"log_tutorial_5.log\")\n",
    "\n",
    "with open(\"log_tutorial_5.log\", \"r\") as f:\n",
    "    print(f.read())"
   ]
  },
  {
   "cell_type": "markdown",
   "metadata": {},
   "source": [
    "Assistant prefills are a powerful feature that allow us to guide the model's output into a specific format. By providing a template in the `assistant_templates` field, we can ensure that the model's responses are structured in a way that's easy to parse and process downstream.\n",
    "\n",
    "In this tutorial, we used assistant prefills to have the model generate its outputs as JSON objects. This can greatly simplify the task of extracting the relevant information from the model's responses."
   ]
  }
 ],
 "metadata": {
  "kernelspec": {
   "display_name": "Python 3",
   "language": "python",
   "name": "python3"
  },
  "language_info": {
   "codemirror_mode": {
    "name": "ipython",
    "version": 3
   },
   "file_extension": ".py",
   "mimetype": "text/x-python",
   "name": "python",
   "nbconvert_exporter": "python",
   "pygments_lexer": "ipython3",
   "version": "3.11.9"
  }
 },
 "nbformat": 4,
 "nbformat_minor": 4
}
