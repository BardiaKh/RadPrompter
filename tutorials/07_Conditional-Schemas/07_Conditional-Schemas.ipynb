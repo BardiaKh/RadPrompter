{
  "cells": [
    {
      "cell_type": "markdown",
      "metadata": {
        "vscode": {
          "languageId": "raw"
        }
      },
      "source": [
        "# Tutorial 7: Conditional Schemas in RadPrompter\n",
        "\n",
        "In this tutorial, we'll explore how to use **Conditional Schemas** in RadPrompter. This feature allows you to create schemas that are only processed when certain conditions are met based on previous schema responses. This is particularly useful for medical reports where follow-up questions depend on initial findings.\n",
        "\n",
        "For example:\n",
        "- First ask: \"Is there pulmonary embolism?\"\n",
        "- If \"Present\": Ask follow-up questions about type, severity, etc.\n",
        "- If \"Absent\": Skip the follow-up questions and use default values"
      ]
    },
    {
      "cell_type": "markdown",
      "metadata": {
        "vscode": {
          "languageId": "raw"
        }
      },
      "source": [
        "## Installation\n",
        "\n",
        "If you don't have `RadPrompter` installed, you can install it using pip:\n",
        "\n",
        "```bash\n",
        "pip install radprompter\n",
        "```\n"
      ]
    },
    {
      "cell_type": "markdown",
      "metadata": {
        "vscode": {
          "languageId": "raw"
        }
      },
      "source": [
        "## Understanding Conditional Schemas\n",
        "\n",
        "Conditional schemas use the `depends_on` field to specify:\n",
        "- **schema**: The name of the parent schema to check\n",
        "- **condition**: The value that must be present to trigger this schema\n",
        "- **default_value**: The value to use if the condition is not met\n",
        "\n",
        "### Example TOML Structure:\n",
        "\n",
        "```toml\n",
        "[SCHEMAS.PulmonaryEmbolism]\n",
        "variable_name = \"Pulmonary Embolism\"\n",
        "type = \"select\"\n",
        "options = [\"Present\", \"Absent\", \"Indeterminate\"]\n",
        "hint = \"Determine if there is evidence of pulmonary embolism...\"\n",
        "\n",
        "[SCHEMAS.EmbolismType]\n",
        "variable_name = \"Embolism Type\"\n",
        "type = \"select\"\n",
        "options = [\"Sub-segmental\", \"Segmental\", \"Main pulmonary artery\", \"Not applicable\"]\n",
        "depends_on = {schema = \"Pulmonary Embolism\", condition = \"Present\", default_value = \"Not applicable\"}\n",
        "hint = \"If pulmonary embolism is present, classify the type...\"\n",
        "```\n"
      ]
    },
    {
      "cell_type": "code",
      "execution_count": null,
      "metadata": {},
      "outputs": [],
      "source": [
        "from radprompter import Prompt\n",
        "\n",
        "prompt = Prompt('07_Conditional-Schemas.toml')\n",
        "prompt\n"
      ]
    },
    {
      "cell_type": "markdown",
      "metadata": {
        "vscode": {
          "languageId": "raw"
        }
      },
      "source": [
        "## Loading the Prompt\n",
        "\n",
        "Let's examine the schemas to understand the conditional dependencies:"
      ]
    },
    {
      "cell_type": "code",
      "execution_count": null,
      "metadata": {},
      "outputs": [],
      "source": [
        "# Print schema information\n",
        "for i, schema in enumerate(prompt.schemas.schemas):\n",
        "    print(f\"Schema {i}: {schema['variable_name']}\")\n",
        "    if 'depends_on' in schema:\n",
        "        depends_on = schema['depends_on']\n",
        "        print(f\"  → Depends on: {depends_on['schema']} = '{depends_on['condition']}'\")\n",
        "        print(f\"  → Default value: '{depends_on['default_value']}'\")\n",
        "    else:\n",
        "        print(f\"  → Independent schema\")\n",
        "    print()"
      ]
    },
    {
      "cell_type": "markdown",
      "metadata": {
        "vscode": {
          "languageId": "raw"
        }
      },
      "source": [
        "## Schema Processing Order\n",
        "\n",
        "RadPrompter automatically determines the processing order based on dependencies:\n"
      ]
    },
    {
      "cell_type": "code",
      "execution_count": null,
      "metadata": {},
      "outputs": [],
      "source": [
        "# Get the dependency order\n",
        "processing_order = prompt.schemas.get_dependency_order()\n",
        "print(\"Schema processing order:\")\n",
        "for i, schema_idx in enumerate(processing_order):\n",
        "    schema = prompt.schemas.schemas[schema_idx]\n",
        "    print(f\"{i+1}. {schema['variable_name']} (index {schema_idx})\")"
      ]
    },
    {
      "cell_type": "markdown",
      "metadata": {
        "vscode": {
          "languageId": "raw"
        }
      },
      "source": [
        "## Client & Engine Setup\n",
        "\n",
        "Set up the client and RadPrompter engine:\n"
      ]
    },
    {
      "cell_type": "code",
      "execution_count": null,
      "metadata": {},
      "outputs": [],
      "source": [
        "from radprompter import RadPrompter, vLLMClient\n",
        "\n",
        "client = vLLMClient(\n",
        "    model=\"google/medgemma-4b-it\",\n",
        "    api_base=\"http://localhost:8000/v1\",\n",
        "    temperature=0.0,\n",
        "    seed=42\n",
        ")\n",
        "\n",
        "engine = RadPrompter(\n",
        "    client=client,\n",
        "    prompt=prompt,\n",
        "    output_file=\"output_conditional_schemas.csv\",\n",
        "    concurrency=2,\n",
        "    hide_blocks=False,\n",
        "    use_pydantic=True\n",
        ")"
      ]
    },
    {
      "cell_type": "markdown",
      "metadata": {
        "vscode": {
          "languageId": "raw"
        }
      },
      "source": [
        "## Sample Reports\n",
        "\n",
        "Let's load some sample reports to test the conditional logic:\n"
      ]
    },
    {
      "cell_type": "code",
      "execution_count": null,
      "metadata": {},
      "outputs": [],
      "source": [
        "import glob\n",
        "\n",
        "report_files = glob.glob(\"../../sample_reports/*.txt\")\n",
        "\n",
        "reports = []\n",
        "for file in report_files:\n",
        "    with open(file, \"r\") as f:\n",
        "        reports.append({\"report\": f.read(), \"file_name\": file})\n",
        "\n",
        "engine(reports)"
      ]
    },
    {
      "cell_type": "markdown",
      "metadata": {
        "vscode": {
          "languageId": "raw"
        }
      },
      "source": [
        "## Results Analysis\n",
        "\n",
        "Let's examine the results to see how conditional schemas behaved:\n"
      ]
    },
    {
      "cell_type": "code",
      "execution_count": null,
      "metadata": {},
      "outputs": [],
      "source": [
        "import pandas as pd\n",
        "\n",
        "df = pd.read_csv(\"output_conditional_schemas.csv\", index_col='index')\n",
        "df"
      ]
    },
    {
      "cell_type": "raw",
      "metadata": {
        "vscode": {
          "languageId": "raw"
        }
      },
      "source": [
        "Let's analyze the conditional behavior in detail:"
      ]
    },
    {
      "cell_type": "code",
      "execution_count": null,
      "metadata": {},
      "outputs": [],
      "source": [
        "# Analyze conditional schema behavior\n",
        "print(\"Conditional Schema Analysis:\")\n",
        "print(\"=\" * 50)\n",
        "\n",
        "for index in df.index:\n",
        "    row = df.loc[index]\n",
        "    print(f\"\\nReport {index + 1}:\")\n",
        "    \n",
        "    # Check PE status and dependent schemas\n",
        "    pe_status = row['Pulmonary Embolism_response']\n",
        "    print(f\"  Pulmonary Embolism: {pe_status}\")\n",
        "    \n",
        "    if pe_status == 'Present':\n",
        "        print(f\"  → Embolism Type: {row['Embolism Type_response']}\")\n",
        "        print(\"    (Should be actual classification)\")\n",
        "    else:\n",
        "        print(f\"  → Dependent schemas should show 'Not applicable'\")\n",
        "        print(f\"    - Embolism Type: {row['Embolism Type_response']}\")\n",
        "    \n",
        "    print(f\"  File: {row['file_name']}\")\n"
      ]
    },
    {
      "cell_type": "markdown",
      "metadata": {
        "vscode": {
          "languageId": "raw"
        }
      },
      "source": [
        "## Key Benefits of Conditional Schemas\n",
        "\n",
        "1. **Efficiency**: Only relevant follow-up questions are asked, reducing processing time and model calls\n",
        "2. **Consistency**: Default values ensure consistent output format across all reports\n",
        "3. **Medical Workflow**: Matches how radiologists actually read reports - initial assessment followed by detailed characterization if needed\n",
        "4. **Clean Data**: Avoids confabulation in irrelevant fields by providing meaningful defaults\n",
        "5. **Scalability**: Easy to add new conditional pathways without affecting existing logic\n",
        "\n",
        "## Advanced Features\n",
        "\n",
        "The conditional schema system supports:\n",
        "\n",
        "- **Multiple conditions**: `condition = [\"Present\", \"Indeterminate\"]`\n",
        "- **Complex dependencies**: Chain multiple levels of dependencies\n",
        "- **Custom default values**: Any appropriate default for your use case\n",
        "- **Multi-turn compatibility**: Works with single-turn and multi-turn prompts\n",
        "- **Error handling**: Graceful handling of failed schema processing\n"
      ]
    },
    {
      "cell_type": "markdown",
      "metadata": {
        "vscode": {
          "languageId": "raw"
        }
      },
      "source": [
        "## Example: Multi-level Dependencies\n",
        "\n",
        "Here's an example of more complex conditional logic you could implement:\n",
        "\n",
        "```toml\n",
        "[SCHEMAS.FindingPresent]\n",
        "variable_name = \"Any Finding\"\n",
        "type = \"select\"\n",
        "options = [\"Present\", \"Absent\"]\n",
        "hint = \"Are there any abnormal findings?\"\n",
        "\n",
        "[SCHEMAS.FindingType]\n",
        "variable_name = \"Finding Type\"\n",
        "type = \"select\"\n",
        "options = [\"Vascular\", \"Parenchymal\", \"Pleural\", \"Not applicable\"]\n",
        "depends_on = {schema = \"Any Finding\", condition = \"Present\", default_value = \"Not applicable\"}\n",
        "hint = \"Classify the type of finding...\"\n",
        "\n",
        "[SCHEMAS.VascularDetails]\n",
        "variable_name = \"Vascular Details\"\n",
        "type = \"select\"\n",
        "options = [\"Embolism\", \"Aneurysm\", \"Stenosis\", \"Not applicable\"]\n",
        "depends_on = {schema = \"Finding Type\", condition = \"Vascular\", default_value = \"Not applicable\"}\n",
        "hint = \"Specify the vascular pathology...\"\n",
        "```\n",
        "\n",
        "This creates a three-level decision tree: Finding → Type → Specific Details.\n"
      ]
    },
    {
      "cell_type": "markdown",
      "metadata": {
        "vscode": {
          "languageId": "raw"
        }
      },
      "source": [
        "## Save Processing Log\n",
        "\n",
        "Finally, let's save the processing log for this session:\n"
      ]
    },
    {
      "cell_type": "code",
      "execution_count": null,
      "metadata": {},
      "outputs": [],
      "source": [
        "engine.save_log(\"log_conditional_schemas.log\")\n",
        "print(\"Processing log saved to 'log_conditional_schemas.log'\")"
      ]
    },
    {
      "cell_type": "markdown",
      "metadata": {
        "vscode": {
          "languageId": "raw"
        }
      },
      "source": [
        "## Summary\n",
        "\n",
        "In this tutorial, we've learned how to use conditional schemas in RadPrompter to create intelligent, context-aware questionnaires. Key takeaways:\n",
        "\n",
        "1. **Conditional schemas** use the `depends_on` field to create branching logic\n",
        "2. **Processing order** is automatically determined based on dependencies\n",
        "3. **Default values** ensure consistent output when conditions aren't met\n",
        "4. **Multi-turn support** works seamlessly with conditional logic\n",
        "5. **Medical workflows** can be accurately modeled with this approach\n",
        "\n",
        "This feature significantly improves the efficiency and accuracy of medical report processing by ensuring that only relevant questions are asked while maintaining consistent data structure.\n",
        "\n",
        "For more complex use cases, you can chain multiple levels of dependencies and use multiple condition values to create sophisticated decision trees that mirror clinical reasoning patterns.\n"
      ]
    }
  ],
  "metadata": {
    "language_info": {
      "name": "python"
    }
  },
  "nbformat": 4,
  "nbformat_minor": 2
}
