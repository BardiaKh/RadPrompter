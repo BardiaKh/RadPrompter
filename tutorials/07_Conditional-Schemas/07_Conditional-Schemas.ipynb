{
  "cells": [
    {
      "cell_type": "markdown",
      "metadata": {
        "vscode": {
          "languageId": "raw"
        }
      },
      "source": [
        "# Tutorial 7: Conditional Schemas in RadPrompter\n",
        "\n",
        "In this tutorial, we'll explore how to use **Conditional Schemas** in RadPrompter. This feature allows you to create schemas that are only processed when certain conditions are met based on previous schema responses. This is particularly useful for medical reports where follow-up questions depend on initial findings.\n",
        "\n",
        "For example:\n",
        "- First ask: \"Is there pulmonary embolism?\"\n",
        "- If \"Present\": Ask follow-up questions about type, severity, etc.\n",
        "- If \"Absent\": Skip the follow-up questions and use default values"
      ]
    },
    {
      "cell_type": "markdown",
      "metadata": {
        "vscode": {
          "languageId": "raw"
        }
      },
      "source": [
        "## Installation\n",
        "\n",
        "If you don't have `RadPrompter` installed, you can install it using pip:\n",
        "\n",
        "```bash\n",
        "pip install radprompter\n",
        "```\n"
      ]
    },
    {
      "cell_type": "markdown",
      "metadata": {
        "vscode": {
          "languageId": "raw"
        }
      },
      "source": [
        "## Understanding Conditional Schemas\n",
        "\n",
        "Conditional schemas use the `depends_on` field to specify:\n",
        "- **schema**: The name of the parent schema to check\n",
        "- **condition**: The value that must be present to trigger this schema\n",
        "- **default_value**: The value to use if the condition is not met\n",
        "\n",
        "### Example TOML Structure:\n",
        "\n",
        "```toml\n",
        "[SCHEMAS.PulmonaryEmbolism]\n",
        "variable_name = \"Pulmonary Embolism\"\n",
        "type = \"select\"\n",
        "options = [\"Present\", \"Absent\", \"Indeterminate\"]\n",
        "hint = \"Determine if there is evidence of pulmonary embolism...\"\n",
        "\n",
        "[SCHEMAS.EmbolismType]\n",
        "variable_name = \"Embolism Type\"\n",
        "type = \"select\"\n",
        "options = [\"Sub-segmental\", \"Segmental\", \"Main pulmonary artery\", \"Not applicable\"]\n",
        "depends_on = {schema = \"Pulmonary Embolism\", condition = \"Present\", default_value = \"Not applicable\"}\n",
        "hint = \"If pulmonary embolism is present, classify the type...\"\n",
        "```\n"
      ]
    },
    {
      "cell_type": "code",
      "execution_count": 1,
      "metadata": {},
      "outputs": [
        {
          "name": "stderr",
          "output_type": "stream",
          "text": [
            "/home/bkhosra/.conda/envs/hf/lib/python3.10/site-packages/_distutils_hack/__init__.py:30: UserWarning: Setuptools is replacing distutils. Support for replacing an already imported distutils is deprecated. In the future, this condition will fail. Register concerns at https://github.com/pypa/setuptools/issues/new?template=distutils-deprecation.yml\n",
            "  warnings.warn(\n"
          ]
        },
        {
          "data": {
            "text/html": [
              "<div style='padding: 0; border-radius: 5px; font-family: Arial; line-height: 1.2rem; border: 1px solid currentColor'><div style='display: flex; align-items: top; padding: 0; border-right-width: 1px'><h4 style='margin: 0; padding: 8px; flex: 0 0 100px; '>System:</h4><p style='margin: 0; padding: 8px; border-left: 1px solid currentColor;'>You are a helpful assistant that has 20 years of experience in reading radiology reports and extracting data elements.</p></div><div style='display: flex; align-items: top; padding: 0;'><h4 style='margin: 0; padding: 8px; flex: 0 0 100px;'>User:</h4><p style='margin: 0; padding: 8px; flex-grow: 1; border-left: 1px solid currentColor;border-top: 1px solid currentColor;'>Carefully review the provided chest CT report (in the &lt;report&gt; tag). Ensure that each data element is accurately captured.<br><br>Here is the report:<br>&lt;report&gt;<br><span style='background-color: rgb(255, 224, 178, 0.3);'>{{report}}</span><br>&lt;/report&gt;<br><br>Please pay attention to the following details:<br>- Your attention to detail is crucial for maintaining the integrity of the medical records. <br>- You should not confabulate information, and if something is not mentioned, you should assume that it is `Absent` unless otherwise stated.<br>- The report may contain additional information that is not relevant to the requested data elements. Please ignore that information.<br>- We are interested at findings at the time of scan, not the previous ones, so only consider the impression and findings sections of the report.<br>- Do not print anything else other than the provided output format.<br>I want you to extract the following data element from the report: <br><span style='background-color: rgb(255, 224, 178, 0.3);'>{{variable_name}}</span>:<br><span style='background-color: rgb(255, 224, 178, 0.3);'>{{hint}}</span><br><br>Provide a single answer:<br><br></p></div><div style='display: flex; align-items: top; padding: 0;'><h4 style='margin: 0; padding: 8px; flex: 0 0 100px;'>Assistant:</h4><p style='margin: 0; padding: 8px; flex-grow: 1; border-left: 1px solid currentColor;border-top: 1px solid currentColor;'><span style='background-color: rgb(178, 219, 255, 0.3);'>[... response ...]</span></p></div></div>"
            ],
            "text/plain": [
              "<IPython.core.display.HTML object>"
            ]
          },
          "metadata": {},
          "output_type": "display_data"
        },
        {
          "data": {
            "text/plain": []
          },
          "execution_count": 1,
          "metadata": {},
          "output_type": "execute_result"
        }
      ],
      "source": [
        "from radprompter import Prompt\n",
        "\n",
        "prompt = Prompt('07_Conditional-Schemas.toml')\n",
        "prompt\n"
      ]
    },
    {
      "cell_type": "markdown",
      "metadata": {
        "vscode": {
          "languageId": "raw"
        }
      },
      "source": [
        "## Loading the Prompt\n",
        "\n",
        "Let's examine the schemas to understand the conditional dependencies:"
      ]
    },
    {
      "cell_type": "code",
      "execution_count": 2,
      "metadata": {},
      "outputs": [
        {
          "name": "stdout",
          "output_type": "stream",
          "text": [
            "Schema 0: Pulmonary Embolism\n",
            "  → Independent schema\n",
            "\n",
            "Schema 1: Embolism Type\n",
            "  → Depends on: Pulmonary Embolism = 'Present'\n",
            "  → Default value: 'Not applicable'\n",
            "\n"
          ]
        }
      ],
      "source": [
        "# Print schema information\n",
        "for i, schema in enumerate(prompt.schemas.schemas):\n",
        "    print(f\"Schema {i}: {schema['variable_name']}\")\n",
        "    if 'depends_on' in schema:\n",
        "        depends_on = schema['depends_on']\n",
        "        print(f\"  → Depends on: {depends_on['schema']} = '{depends_on['condition']}'\")\n",
        "        print(f\"  → Default value: '{depends_on['default_value']}'\")\n",
        "    else:\n",
        "        print(f\"  → Independent schema\")\n",
        "    print()"
      ]
    },
    {
      "cell_type": "markdown",
      "metadata": {
        "vscode": {
          "languageId": "raw"
        }
      },
      "source": [
        "## Schema Processing Order\n",
        "\n",
        "RadPrompter automatically determines the processing order based on dependencies:\n"
      ]
    },
    {
      "cell_type": "code",
      "execution_count": 3,
      "metadata": {},
      "outputs": [
        {
          "name": "stdout",
          "output_type": "stream",
          "text": [
            "Schema processing order:\n",
            "1. Pulmonary Embolism (index 0)\n",
            "2. Embolism Type (index 1)\n"
          ]
        }
      ],
      "source": [
        "# Get the dependency order\n",
        "processing_order = prompt.schemas.get_dependency_order()\n",
        "print(\"Schema processing order:\")\n",
        "for i, schema_idx in enumerate(processing_order):\n",
        "    schema = prompt.schemas.schemas[schema_idx]\n",
        "    print(f\"{i+1}. {schema['variable_name']} (index {schema_idx})\")"
      ]
    },
    {
      "cell_type": "markdown",
      "metadata": {
        "vscode": {
          "languageId": "raw"
        }
      },
      "source": [
        "## Client & Engine Setup\n",
        "\n",
        "Set up the client and RadPrompter engine:\n"
      ]
    },
    {
      "cell_type": "code",
      "execution_count": 4,
      "metadata": {},
      "outputs": [],
      "source": [
        "from radprompter import RadPrompter, vLLMClient\n",
        "\n",
        "client = vLLMClient(\n",
        "    model=\"google/medgemma-4b-it\",\n",
        "    api_base=\"http://localhost:8000/v1\",\n",
        "    temperature=0.0,\n",
        "    seed=42\n",
        ")\n",
        "\n",
        "engine = RadPrompter(\n",
        "    client=client,\n",
        "    prompt=prompt,\n",
        "    output_file=\"output_conditional_schemas.csv\",\n",
        "    concurrency=2,\n",
        "    hide_blocks=False,\n",
        "    use_pydantic=True   # Default is True, just for demonstration\n",
        ")"
      ]
    },
    {
      "cell_type": "markdown",
      "metadata": {
        "vscode": {
          "languageId": "raw"
        }
      },
      "source": [
        "## Sample Reports\n",
        "\n",
        "Let's load some sample reports to test the conditional logic:\n"
      ]
    },
    {
      "cell_type": "code",
      "execution_count": 5,
      "metadata": {},
      "outputs": [
        {
          "name": "stderr",
          "output_type": "stream",
          "text": [
            "Processing items: 100%|██████████| 3/3 [00:05<00:00,  1.69s/it]\n"
          ]
        }
      ],
      "source": [
        "import glob\n",
        "\n",
        "report_files = glob.glob(\"../../sample_reports/*.txt\")\n",
        "\n",
        "reports = []\n",
        "for file in report_files:\n",
        "    with open(file, \"r\") as f:\n",
        "        reports.append({\"report\": f.read(), \"file_name\": file})\n",
        "\n",
        "engine(reports)"
      ]
    },
    {
      "cell_type": "markdown",
      "metadata": {
        "vscode": {
          "languageId": "raw"
        }
      },
      "source": [
        "## Results Analysis\n",
        "\n",
        "Let's examine the results to see how conditional schemas behaved:\n"
      ]
    },
    {
      "cell_type": "code",
      "execution_count": 6,
      "metadata": {},
      "outputs": [
        {
          "data": {
            "text/html": [
              "<div>\n",
              "<style scoped>\n",
              "    .dataframe tbody tr th:only-of-type {\n",
              "        vertical-align: middle;\n",
              "    }\n",
              "\n",
              "    .dataframe tbody tr th {\n",
              "        vertical-align: top;\n",
              "    }\n",
              "\n",
              "    .dataframe thead th {\n",
              "        text-align: right;\n",
              "    }\n",
              "</style>\n",
              "<table border=\"1\" class=\"dataframe\">\n",
              "  <thead>\n",
              "    <tr style=\"text-align: right;\">\n",
              "      <th></th>\n",
              "      <th>Pulmonary Embolism_response</th>\n",
              "      <th>Embolism Type_response</th>\n",
              "      <th>report</th>\n",
              "      <th>file_name</th>\n",
              "    </tr>\n",
              "    <tr>\n",
              "      <th>index</th>\n",
              "      <th></th>\n",
              "      <th></th>\n",
              "      <th></th>\n",
              "      <th></th>\n",
              "    </tr>\n",
              "  </thead>\n",
              "  <tbody>\n",
              "    <tr>\n",
              "      <th>1</th>\n",
              "      <td>Present</td>\n",
              "      <td>Main pulmonary artery</td>\n",
              "      <td>Clinical Information:\\n72-year-old female with...</td>\n",
              "      <td>../../sample_reports/sample_report_2.txt</td>\n",
              "    </tr>\n",
              "    <tr>\n",
              "      <th>0</th>\n",
              "      <td>Present</td>\n",
              "      <td>Main pulmonary artery</td>\n",
              "      <td>Clinical Information:\\n67-year-old male with s...</td>\n",
              "      <td>../../sample_reports/sample_report_1.txt</td>\n",
              "    </tr>\n",
              "    <tr>\n",
              "      <th>2</th>\n",
              "      <td>Present</td>\n",
              "      <td>Sub-segmental</td>\n",
              "      <td>Here is an example radiology report describing...</td>\n",
              "      <td>../../sample_reports/sample_report_3.txt</td>\n",
              "    </tr>\n",
              "  </tbody>\n",
              "</table>\n",
              "</div>"
            ],
            "text/plain": [
              "      Pulmonary Embolism_response Embolism Type_response  \\\n",
              "index                                                      \n",
              "1                         Present  Main pulmonary artery   \n",
              "0                         Present  Main pulmonary artery   \n",
              "2                         Present          Sub-segmental   \n",
              "\n",
              "                                                  report  \\\n",
              "index                                                      \n",
              "1      Clinical Information:\\n72-year-old female with...   \n",
              "0      Clinical Information:\\n67-year-old male with s...   \n",
              "2      Here is an example radiology report describing...   \n",
              "\n",
              "                                      file_name  \n",
              "index                                            \n",
              "1      ../../sample_reports/sample_report_2.txt  \n",
              "0      ../../sample_reports/sample_report_1.txt  \n",
              "2      ../../sample_reports/sample_report_3.txt  "
            ]
          },
          "execution_count": 6,
          "metadata": {},
          "output_type": "execute_result"
        }
      ],
      "source": [
        "import pandas as pd\n",
        "\n",
        "df = pd.read_csv(\"output_conditional_schemas.csv\", index_col='index')\n",
        "df"
      ]
    },
    {
      "cell_type": "markdown",
      "metadata": {
        "vscode": {
          "languageId": "raw"
        }
      },
      "source": [
        "Let's analyze the conditional behavior in detail:"
      ]
    },
    {
      "cell_type": "code",
      "execution_count": 7,
      "metadata": {},
      "outputs": [
        {
          "name": "stdout",
          "output_type": "stream",
          "text": [
            "Conditional Schema Analysis:\n",
            "==================================================\n",
            "\n",
            "Report 2:\n",
            "  Pulmonary Embolism: Present\n",
            "  → Embolism Type: Main pulmonary artery\n",
            "    (Should be actual classification)\n",
            "  File: ../../sample_reports/sample_report_2.txt\n",
            "\n",
            "Report 1:\n",
            "  Pulmonary Embolism: Present\n",
            "  → Embolism Type: Main pulmonary artery\n",
            "    (Should be actual classification)\n",
            "  File: ../../sample_reports/sample_report_1.txt\n",
            "\n",
            "Report 3:\n",
            "  Pulmonary Embolism: Present\n",
            "  → Embolism Type: Sub-segmental\n",
            "    (Should be actual classification)\n",
            "  File: ../../sample_reports/sample_report_3.txt\n"
          ]
        }
      ],
      "source": [
        "# Analyze conditional schema behavior\n",
        "print(\"Conditional Schema Analysis:\")\n",
        "print(\"=\" * 50)\n",
        "\n",
        "for index in df.index:\n",
        "    row = df.loc[index]\n",
        "    print(f\"\\nReport {index + 1}:\")\n",
        "    \n",
        "    # Check PE status and dependent schemas\n",
        "    pe_status = row['Pulmonary Embolism_response']\n",
        "    print(f\"  Pulmonary Embolism: {pe_status}\")\n",
        "    \n",
        "    if pe_status == 'Present':\n",
        "        print(f\"  → Embolism Type: {row['Embolism Type_response']}\")\n",
        "        print(\"    (Should be actual classification)\")\n",
        "    else:\n",
        "        print(f\"  → Dependent schemas should show 'Not applicable'\")\n",
        "        print(f\"    - Embolism Type: {row['Embolism Type_response']}\")\n",
        "    \n",
        "    print(f\"  File: {row['file_name']}\")\n"
      ]
    },
    {
      "cell_type": "markdown",
      "metadata": {
        "vscode": {
          "languageId": "raw"
        }
      },
      "source": [
        "## Key Benefits of Conditional Schemas\n",
        "\n",
        "1. **Efficiency**: Only relevant follow-up questions are asked, reducing processing time and model calls\n",
        "2. **Consistency**: Default values ensure consistent output format across all reports\n",
        "3. **Medical Workflow**: Matches how radiologists actually read reports - initial assessment followed by detailed characterization if needed\n",
        "4. **Clean Data**: Avoids confabulation in irrelevant fields by providing meaningful defaults\n",
        "5. **Scalability**: Easy to add new conditional pathways without affecting existing logic\n",
        "\n",
        "## Advanced Features\n",
        "\n",
        "The conditional schema system supports:\n",
        "\n",
        "- **Multiple conditions**: `condition = [\"Present\", \"Indeterminate\"]`\n",
        "- **Complex dependencies**: Chain multiple levels of dependencies\n",
        "- **Custom default values**: Any appropriate default for your use case\n",
        "- **Multi-turn compatibility**: Works with single-turn and multi-turn prompts\n",
        "- **Error handling**: Graceful handling of failed schema processing\n"
      ]
    },
    {
      "cell_type": "markdown",
      "metadata": {
        "vscode": {
          "languageId": "raw"
        }
      },
      "source": [
        "## Example: Multi-level Dependencies\n",
        "\n",
        "Here's an example of more complex conditional logic you could implement:\n",
        "\n",
        "```toml\n",
        "[SCHEMAS.FindingPresent]\n",
        "variable_name = \"Any Finding\"\n",
        "type = \"select\"\n",
        "options = [\"Present\", \"Absent\", \"Uncertain\"]\n",
        "hint = \"Are there any abnormal findings?\"\n",
        "\n",
        "[SCHEMAS.FindingType]\n",
        "variable_name = \"Finding Type\"\n",
        "type = \"select\"\n",
        "options = [\"Vascular\", \"Parenchymal\", \"Pleural\", \"Not applicable\"]\n",
        "depends_on = {schema = \"Any Finding\", condition = [\"Present\", \"Uncertain\"], default_value = \"Not applicable\"}\n",
        "hint = \"Classify the type of finding...\"\n",
        "\n",
        "[SCHEMAS.VascularDetails]\n",
        "variable_name = \"Vascular Details\"\n",
        "type = \"select\"\n",
        "options = [\"Embolism\", \"Aneurysm\", \"Stenosis\", \"Not applicable\"]\n",
        "depends_on = {schema = \"Finding Type\", condition = \"Vascular\", default_value = \"Not applicable\"}\n",
        "hint = \"Specify the vascular pathology...\"\n",
        "```\n",
        "\n",
        "This creates a three-level decision tree: Finding → Type → Specific Details.\n",
        "\n",
        "The `FindingType` schema will now be processed when \"Any Finding\" is either \"Present\" OR \"Uncertain\", demonstrating how to use a list of conditions."
      ]
    },
    {
      "cell_type": "markdown",
      "metadata": {
        "vscode": {
          "languageId": "raw"
        }
      },
      "source": [
        "## Save Processing Log\n",
        "\n",
        "Finally, let's save the processing log for this session:\n"
      ]
    },
    {
      "cell_type": "code",
      "execution_count": 9,
      "metadata": {},
      "outputs": [
        {
          "name": "stdout",
          "output_type": "stream",
          "text": [
            "RadPrompter Version: 2.0.0\n",
            "Model: hosted_vllm/google/medgemma-4b-it\n",
            "Seed: 42\n",
            "Temperature: 0.0\n",
            "Frequency Penalty: 0.0\n",
            "Top-P: 1.0\n",
            "Prompt TOML: /opt/localdata/Data/Datathon_BKh/LLMSynth/RadPrompter/tutorials/07_Conditional-Schemas/07_Conditional-Schemas.toml\n",
            "Prompt Version: 0.1\n",
            "Prompt Hash: 0d1766186102eb484fb64c5bbd5d18f6\n",
            "Concurrency Factor: 2\n",
            "Use Pydantic: True\n",
            "Start Time: 2025-06-13 00:53:17\n",
            "End Time: 2025-06-13 00:53:22\n",
            "Duration: 5.0\n",
            "Number of Items: 3\n",
            "Average Processing Time: 1.6666666666666667\n",
            "\n",
            "\n",
            "-------------------- *** - Prompt Content - *** --------------------\n",
            "[METADATA]\n",
            "version = 0.1\n",
            "description = \"A sample prompt demonstrating conditional schemas for RadPrompter\"\n",
            "\n",
            "[PROMPTS]\n",
            "\n",
            "system_prompt = \"You are a helpful assistant that has 20 years of experience in reading radiology reports and extracting data elements.\"\n",
            "\n",
            "user_prompt_intro = \"\"\"\n",
            "Carefully review the provided chest CT report (in the <report> tag). Ensure that each data element is accurately captured.\n",
            "\n",
            "Here is the report:\n",
            "<report>\n",
            "{{report}}\n",
            "</report>\n",
            "\n",
            "Please pay attention to the following details:\n",
            "- Your attention to detail is crucial for maintaining the integrity of the medical records. \n",
            "- You should not confabulate information, and if something is not mentioned, you should assume that it is `Absent` unless otherwise stated.\n",
            "- The report may contain additional information that is not relevant to the requested data elements. Please ignore that information.\n",
            "- We are interested at findings at the time of scan, not the previous ones, so only consider the impression and findings sections of the report.\n",
            "- Do not print anything else other than the provided output format.\n",
            "\"\"\"\n",
            "\n",
            "user_prompt_no_cot = \"\"\"\n",
            "I want you to extract the following data element from the report: \n",
            "{{variable_name}}:\n",
            "{{hint}}\n",
            "\n",
            "Provide a single answer:\n",
            "\n",
            "\"\"\"\n",
            "\n",
            "[CONSTRUCTOR]\n",
            "system = \"rdp(system_prompt)\"\n",
            "user = [\n",
            "\"rdp(user_prompt_intro + user_prompt_no_cot)\"\n",
            "]\n",
            "\n",
            "[SCHEMAS]\n",
            "[SCHEMAS.PulmonaryEmbolism]\n",
            "variable_name = \"Pulmonary Embolism\"\n",
            "intro_prompt = \"\"\"\n",
            "Carefully review the provided chest CT report (in the <report> tag). Ensure that each data element is accurately captured.\n",
            "\n",
            "Here is the report:\n",
            "<report>\n",
            "{{report}}\n",
            "</report>\n",
            "\n",
            "Please pay attention to the following details:\n",
            "- Your attention to detail is crucial for maintaining the integrity of the medical records. \n",
            "- You should not confabulate information, and if something is not mentioned, you should assume that it is `Absent` unless otherwise stated.\n",
            "- The report may contain additional information that is not relevant to the requested data elements. Please ignore that information.\n",
            "- We are interested at findings at the time of scan, not the previous ones, so only consider the impression and findings sections of the report.\n",
            "- Do not print anything else other than the provided output format.\n",
            "\"\"\"\n",
            "type = \"select\"\n",
            "options = [\"Present\", \"Absent\", \"Indeterminate\"]\n",
            "show_options_in_hint = true\n",
            "hint = \"\"\"\n",
            "Determine if there is evidence of pulmonary embolism in the CT scan report.\n",
            "Select 'Present' if pulmonary embolism is explicitly mentioned.\n",
            "Select 'Absent' if no pulmonary embolism is mentioned or explicitly ruled out.\n",
            "Select 'Indeterminate' if the report is unclear about pulmonary embolism status.\n",
            "\"\"\"\n",
            "\n",
            "[SCHEMAS.EmbolismType]\n",
            "variable_name = \"Embolism Type\"\n",
            "intro_prompt = \"\"\n",
            "type = \"select\"\n",
            "options = [\"Sub-segmental\", \"Segmental\", \"Main pulmonary artery\", \"Not applicable\"]\n",
            "depends_on = {schema = \"Pulmonary Embolism\", condition = \"Present\", default_value = \"Not applicable\"}\n",
            "show_options_in_hint = true\n",
            "hint = \"\"\"\n",
            "If pulmonary embolism is present, classify the anatomical location and extent.\n",
            "Select 'Sub-segmental' for small peripheral emboli.\n",
            "Select 'Segmental' for emboli in segmental arteries.\n",
            "Select 'Main pulmonary artery' for central emboli in main PA or lobar arteries.\n",
            "\"\"\"\n"
          ]
        }
      ],
      "source": [
        "engine.save_log(\"log_tutorial_7.log\")\n",
        "\n",
        "with open(\"log_tutorial_7.log\", \"r\") as f:\n",
        "    print(f.read())"
      ]
    },
    {
      "cell_type": "markdown",
      "metadata": {
        "vscode": {
          "languageId": "raw"
        }
      },
      "source": [
        "## Summary\n",
        "\n",
        "In this tutorial, we've learned how to use conditional schemas in RadPrompter to create intelligent, context-aware questionnaires. Key takeaways:\n",
        "\n",
        "1. **Conditional schemas** use the `depends_on` field to create branching logic\n",
        "2. **Processing order** is automatically determined based on dependencies\n",
        "3. **Default values** ensure consistent output when conditions aren't met\n",
        "4. **Multi-turn support** works seamlessly with conditional logic\n",
        "5. **Medical workflows** can be accurately modeled with this approach\n",
        "\n",
        "This feature significantly improves the efficiency and accuracy of medical report processing by ensuring that only relevant questions are asked while maintaining consistent data structure.\n",
        "\n",
        "For more complex use cases, you can chain multiple levels of dependencies and use multiple condition values to create sophisticated decision trees that mirror clinical reasoning patterns.\n"
      ]
    }
  ],
  "metadata": {
    "kernelspec": {
      "display_name": "hf",
      "language": "python",
      "name": "python3"
    },
    "language_info": {
      "codemirror_mode": {
        "name": "ipython",
        "version": 3
      },
      "file_extension": ".py",
      "mimetype": "text/x-python",
      "name": "python",
      "nbconvert_exporter": "python",
      "pygments_lexer": "ipython3",
      "version": "3.10.14"
    }
  },
  "nbformat": 4,
  "nbformat_minor": 2
}
